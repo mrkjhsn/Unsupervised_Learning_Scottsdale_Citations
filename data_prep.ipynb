{
 "cells": [
  {
   "cell_type": "markdown",
   "metadata": {},
   "source": [
    "## Organize citation data to be able to perform clustering analysis.  Additionally, explore citation data to be able to ensure I am including all relevant features."
   ]
  },
  {
   "cell_type": "markdown",
   "metadata": {},
   "source": [
    "### Data Source\n",
    "On a weekly basis the City of Scottsdale Police Department publishes a [dataset](http://data.scottsdaleaz.gov/dataset/police-citations)* which includes one prior years worth citations.  These citations are largely made up of vehicle related infractions such as speeding.  \n",
    "\n",
    "\n",
    "I downloaded the data in September 2018, September 2019, and January 2020.  In raw format the combined dataset includes just over 56K rows and 22 columns.  For privacy issues, the City of Scottsdale does not release citation data for anyone under 18.  \n",
    "\n",
    "<br/>\n",
    "\n",
    "*Contains information from the City of Scottsdale Open Database Portal, which is made available here under the [Open Database License](http://www.scottsdaleaz.gov/AssetFactory.aspx?did=69351).\n"
   ]
  },
  {
   "cell_type": "markdown",
   "metadata": {},
   "source": [
    "## DATA PREPROCESSING"
   ]
  },
  {
   "cell_type": "code",
   "execution_count": 2,
   "metadata": {},
   "outputs": [],
   "source": [
    "import pandas as pd\n",
    "import numpy as np\n",
    "from scipy.stats import ttest_ind\n",
    "import matplotlib.pyplot as plt\n",
    "import matplotlib.ticker as ticker\n",
    "import seaborn as sns\n",
    "import datetime\n",
    "import glob\n",
    "pd.set_option('display.max_columns', None)\n",
    "sns.set(style='darkgrid')\n",
    "# plt.style.use('bmh')\n",
    "plt.rcParams['patch.edgecolor'] = 'none'\n",
    "import jenkspy\n",
    "\n",
    "import hdbscan\n",
    "from sklearn.cluster import KMeans\n",
    "from sklearn.cluster import DBSCAN\n",
    "from sklearn.mixture import GaussianMixture\n",
    "from sklearn.cluster import AgglomerativeClustering\n",
    "\n",
    "from sklearn.preprocessing import StandardScaler\n",
    "from sklearn.decomposition import PCA\n",
    "from sklearn.manifold import TSNE\n",
    "import umap\n",
    "from sklearn import metrics\n",
    "\n",
    "import warnings\n",
    "warnings.filterwarnings('ignore')"
   ]
  },
  {
   "cell_type": "code",
   "execution_count": 4,
   "metadata": {},
   "outputs": [],
   "source": [
    "# read in csv files\n",
    "files = glob.glob('data/primary_data/*.csv')\n",
    "\n",
    "citations = pd.concat([pd.read_csv(f) \\\n",
    "                      for f in files], sort=True)"
   ]
  },
  {
   "cell_type": "code",
   "execution_count": 5,
   "metadata": {},
   "outputs": [
    {
     "data": {
      "text/html": [
       "<div>\n",
       "<style scoped>\n",
       "    .dataframe tbody tr th:only-of-type {\n",
       "        vertical-align: middle;\n",
       "    }\n",
       "\n",
       "    .dataframe tbody tr th {\n",
       "        vertical-align: top;\n",
       "    }\n",
       "\n",
       "    .dataframe thead th {\n",
       "        text-align: right;\n",
       "    }\n",
       "</style>\n",
       "<table border=\"1\" class=\"dataframe\">\n",
       "  <thead>\n",
       "    <tr style=\"text-align: right;\">\n",
       "      <th></th>\n",
       "      <th>Arizona Statute Code</th>\n",
       "      <th>Beat</th>\n",
       "      <th>Charge Description</th>\n",
       "      <th>Citation #</th>\n",
       "      <th>Citation Date</th>\n",
       "      <th>Citation Time</th>\n",
       "      <th>Citation Type Code</th>\n",
       "      <th>Citation Type Description</th>\n",
       "      <th>Cited Person</th>\n",
       "      <th>Cited Person Age</th>\n",
       "      <th>Cited Person Ethnicity</th>\n",
       "      <th>Cited Person Race</th>\n",
       "      <th>Cited Person Sex</th>\n",
       "      <th>City</th>\n",
       "      <th>District</th>\n",
       "      <th>Officer Badge #</th>\n",
       "      <th>State</th>\n",
       "      <th>Street</th>\n",
       "      <th>Street Number</th>\n",
       "      <th>Zip</th>\n",
       "      <th>Zone</th>\n",
       "      <th>tcmainid</th>\n",
       "    </tr>\n",
       "  </thead>\n",
       "  <tbody>\n",
       "    <tr>\n",
       "      <td>0</td>\n",
       "      <td>28-701A</td>\n",
       "      <td>12.0</td>\n",
       "      <td>Speed Greater Than R&amp;P or Posted</td>\n",
       "      <td>8096915</td>\n",
       "      <td>07/10/2019</td>\n",
       "      <td>747</td>\n",
       "      <td>CV</td>\n",
       "      <td>Civil Traffic</td>\n",
       "      <td>Hansen, Christopher</td>\n",
       "      <td>19</td>\n",
       "      <td>N</td>\n",
       "      <td>W</td>\n",
       "      <td>M</td>\n",
       "      <td>Scottsdale</td>\n",
       "      <td>D3</td>\n",
       "      <td>1335</td>\n",
       "      <td>AZ</td>\n",
       "      <td>E Shea Bl</td>\n",
       "      <td>6xxx</td>\n",
       "      <td>NaN</td>\n",
       "      <td>3003</td>\n",
       "      <td>662799</td>\n",
       "    </tr>\n",
       "    <tr>\n",
       "      <td>1</td>\n",
       "      <td>28-701A</td>\n",
       "      <td>12.0</td>\n",
       "      <td>Speed Greater Than R&amp;P or Posted</td>\n",
       "      <td>8096916</td>\n",
       "      <td>07/10/2019</td>\n",
       "      <td>800</td>\n",
       "      <td>CV</td>\n",
       "      <td>Civil Traffic</td>\n",
       "      <td>Koch, JOshua</td>\n",
       "      <td>36</td>\n",
       "      <td>N</td>\n",
       "      <td>W</td>\n",
       "      <td>M</td>\n",
       "      <td>Scottsdale</td>\n",
       "      <td>D3</td>\n",
       "      <td>1335</td>\n",
       "      <td>AZ</td>\n",
       "      <td>E Shea Bl</td>\n",
       "      <td>6xxx</td>\n",
       "      <td>NaN</td>\n",
       "      <td>3003</td>\n",
       "      <td>662801</td>\n",
       "    </tr>\n",
       "    <tr>\n",
       "      <td>2</td>\n",
       "      <td>28-701A</td>\n",
       "      <td>7.0</td>\n",
       "      <td>Speed Greater Than R&amp;P or Posted</td>\n",
       "      <td>8096917</td>\n",
       "      <td>07/10/2019</td>\n",
       "      <td>853</td>\n",
       "      <td>CV</td>\n",
       "      <td>Civil Traffic</td>\n",
       "      <td>Dahl, Renee</td>\n",
       "      <td>61</td>\n",
       "      <td>N</td>\n",
       "      <td>W</td>\n",
       "      <td>F</td>\n",
       "      <td>Scottsdale</td>\n",
       "      <td>D2</td>\n",
       "      <td>1335</td>\n",
       "      <td>AZ</td>\n",
       "      <td>N Goldwater Bl</td>\n",
       "      <td>4xxx</td>\n",
       "      <td>NaN</td>\n",
       "      <td>1102</td>\n",
       "      <td>662802</td>\n",
       "    </tr>\n",
       "    <tr>\n",
       "      <td>3</td>\n",
       "      <td>28-701A</td>\n",
       "      <td>7.0</td>\n",
       "      <td>Speed Greater Than R&amp;P or Posted</td>\n",
       "      <td>8096918</td>\n",
       "      <td>07/11/2019</td>\n",
       "      <td>843</td>\n",
       "      <td>CV</td>\n",
       "      <td>Civil Traffic</td>\n",
       "      <td>Lu, Hung</td>\n",
       "      <td>59</td>\n",
       "      <td>N</td>\n",
       "      <td>A</td>\n",
       "      <td>M</td>\n",
       "      <td>Scottsdale</td>\n",
       "      <td>D2</td>\n",
       "      <td>1335</td>\n",
       "      <td>AZ</td>\n",
       "      <td>N Goldwater Bl</td>\n",
       "      <td>4xxx</td>\n",
       "      <td>NaN</td>\n",
       "      <td>1102</td>\n",
       "      <td>662804</td>\n",
       "    </tr>\n",
       "    <tr>\n",
       "      <td>4</td>\n",
       "      <td>28-701A</td>\n",
       "      <td>19.0</td>\n",
       "      <td>Speed Greater Than R&amp;P or Posted</td>\n",
       "      <td>8095091</td>\n",
       "      <td>07/06/2019</td>\n",
       "      <td>2215</td>\n",
       "      <td>CV</td>\n",
       "      <td>Civil Traffic</td>\n",
       "      <td>Noller-Johnson, Aarron</td>\n",
       "      <td>23</td>\n",
       "      <td>U</td>\n",
       "      <td>W</td>\n",
       "      <td>M</td>\n",
       "      <td>Scottsdale</td>\n",
       "      <td>D4</td>\n",
       "      <td>1450</td>\n",
       "      <td>AZ</td>\n",
       "      <td>N Pima Rd</td>\n",
       "      <td>2xxx</td>\n",
       "      <td>NaN</td>\n",
       "      <td>3801</td>\n",
       "      <td>662805</td>\n",
       "    </tr>\n",
       "  </tbody>\n",
       "</table>\n",
       "</div>"
      ],
      "text/plain": [
       "  Arizona Statute Code  Beat                Charge Description  Citation #  \\\n",
       "0              28-701A  12.0  Speed Greater Than R&P or Posted     8096915   \n",
       "1              28-701A  12.0  Speed Greater Than R&P or Posted     8096916   \n",
       "2              28-701A   7.0  Speed Greater Than R&P or Posted     8096917   \n",
       "3              28-701A   7.0  Speed Greater Than R&P or Posted     8096918   \n",
       "4              28-701A  19.0  Speed Greater Than R&P or Posted     8095091   \n",
       "\n",
       "  Citation Date  Citation Time Citation Type Code Citation Type Description  \\\n",
       "0    07/10/2019            747                 CV             Civil Traffic   \n",
       "1    07/10/2019            800                 CV             Civil Traffic   \n",
       "2    07/10/2019            853                 CV             Civil Traffic   \n",
       "3    07/11/2019            843                 CV             Civil Traffic   \n",
       "4    07/06/2019           2215                 CV             Civil Traffic   \n",
       "\n",
       "             Cited Person Cited Person Age Cited Person Ethnicity  \\\n",
       "0     Hansen, Christopher               19                      N   \n",
       "1            Koch, JOshua               36                      N   \n",
       "2             Dahl, Renee               61                      N   \n",
       "3                Lu, Hung               59                      N   \n",
       "4  Noller-Johnson, Aarron               23                      U   \n",
       "\n",
       "  Cited Person Race Cited Person Sex        City District   Officer Badge #  \\\n",
       "0                 W                M  Scottsdale       D3  1335               \n",
       "1                 W                M  Scottsdale       D3  1335               \n",
       "2                 W                F  Scottsdale       D2  1335               \n",
       "3                 A                M  Scottsdale       D2  1335               \n",
       "4                 W                M  Scottsdale       D4  1450               \n",
       "\n",
       "  State          Street Street Number  Zip  Zone  tcmainid  \n",
       "0    AZ       E Shea Bl          6xxx  NaN  3003    662799  \n",
       "1    AZ       E Shea Bl          6xxx  NaN  3003    662801  \n",
       "2    AZ  N Goldwater Bl          4xxx  NaN  1102    662802  \n",
       "3    AZ  N Goldwater Bl          4xxx  NaN  1102    662804  \n",
       "4    AZ       N Pima Rd          2xxx  NaN  3801    662805  "
      ]
     },
     "execution_count": 5,
     "metadata": {},
     "output_type": "execute_result"
    }
   ],
   "source": [
    "citations.head()"
   ]
  },
  {
   "cell_type": "code",
   "execution_count": 6,
   "metadata": {},
   "outputs": [],
   "source": [
    "# convert column labels to lower case and remove spaces from column names\n",
    "citations.columns = citations.columns.str.replace(' ', '_')\n",
    "citations.columns = map(str.lower, citations.columns)"
   ]
  },
  {
   "cell_type": "code",
   "execution_count": 7,
   "metadata": {},
   "outputs": [],
   "source": [
    "# remove duplicate citations due to overlap in data being downloaded\n",
    "citations.drop_duplicates('citation_#', inplace=True)"
   ]
  },
  {
   "cell_type": "code",
   "execution_count": 8,
   "metadata": {},
   "outputs": [],
   "source": [
    "# change data type of age from object to number\n",
    "citations.cited_person_age = pd.to_numeric(citations.cited_person_age, errors='coerce')"
   ]
  },
  {
   "cell_type": "code",
   "execution_count": 9,
   "metadata": {},
   "outputs": [],
   "source": [
    "# convert citation date to datetime format\n",
    "citations['citation_date'] = pd.to_datetime(citations['citation_date'])\n",
    "\n",
    "# create month column\n",
    "citations['month'] = citations['citation_date'].dt.month\n",
    "\n",
    "# create day of week column\n",
    "citations['day_of_week'] = citations['citation_date'].dt.dayofweek\n",
    "\n",
    "# create day of week column\n",
    "citations['week_of_year'] = citations['citation_date'].dt.weekofyear\n",
    "\n",
    "# extract the hour of the day from the citation time column\n",
    "citations['hour_of_day'] = citations['citation_time'].apply(lambda x: str(x)[-4:-2])\n",
    "\n",
    "# replace blanks with 0\n",
    "# this happened for citations that took place during the hour of 12am\n",
    "citations.loc[citations.hour_of_day == '', 'hour_of_day'] = 0\n",
    "# change data type of hour from object to number\n",
    "citations.hour_of_day = pd.to_numeric(citations.hour_of_day)"
   ]
  },
  {
   "cell_type": "code",
   "execution_count": 10,
   "metadata": {},
   "outputs": [],
   "source": [
    "# one citation has no age\n",
    "# drop citations where age isn't provided\n",
    "\n",
    "citations.dropna(subset=['cited_person_age'], inplace=True)"
   ]
  },
  {
   "cell_type": "code",
   "execution_count": 11,
   "metadata": {},
   "outputs": [
    {
     "data": {
      "text/plain": [
       "M    35199\n",
       "F    21220\n",
       "U       14\n",
       "Name: cited_person_sex, dtype: int64"
      ]
     },
     "execution_count": 11,
     "metadata": {},
     "output_type": "execute_result"
    }
   ],
   "source": [
    "citations.cited_person_sex.value_counts()"
   ]
  },
  {
   "cell_type": "code",
   "execution_count": 12,
   "metadata": {},
   "outputs": [],
   "source": [
    "# 14 citations have no gender\n",
    "# drop citations where gender isn't binary\n",
    "citations.drop(citations[citations.cited_person_sex == 'U'].index, inplace=True)"
   ]
  },
  {
   "cell_type": "code",
   "execution_count": 13,
   "metadata": {},
   "outputs": [
    {
     "data": {
      "text/plain": [
       "M    35184\n",
       "F    21216\n",
       "Name: cited_person_sex, dtype: int64"
      ]
     },
     "execution_count": 13,
     "metadata": {},
     "output_type": "execute_result"
    }
   ],
   "source": [
    "# verify non-binary genders have been dropped\n",
    "citations.cited_person_sex.value_counts()"
   ]
  },
  {
   "cell_type": "code",
   "execution_count": 14,
   "metadata": {},
   "outputs": [
    {
     "data": {
      "text/plain": [
       "(56403, 26)"
      ]
     },
     "execution_count": 14,
     "metadata": {},
     "output_type": "execute_result"
    }
   ],
   "source": [
    "# how many rows and columns are in the dataset?\n",
    "citations.shape"
   ]
  },
  {
   "cell_type": "markdown",
   "metadata": {},
   "source": [
    "## DEFINE FEATURES TO PERFORM ANALYSIS ON"
   ]
  },
  {
   "cell_type": "code",
   "execution_count": 15,
   "metadata": {},
   "outputs": [
    {
     "data": {
      "text/plain": [
       "Speed Greater Than R&P or Posted                 13343\n",
       "Expired/No Arizona Registration                   4597\n",
       "Suspended/Revoked D.L.                            3382\n",
       "DUI-Impaired to Slightest Degree                  2742\n",
       "Failure to Control Speed to Avoid A Collision     2670\n",
       "No Proof of Insurance                             2515\n",
       "Drug Paraphernalia-Possess/Use                    2506\n",
       "Fail to Obey Traffic Control Device               1870\n",
       "Fail to Stop For Red Signal                       1532\n",
       "Fail to Stop at Stop Sign                         1469\n",
       "Name: charge_description, dtype: int64"
      ]
     },
     "execution_count": 15,
     "metadata": {},
     "output_type": "execute_result"
    }
   ],
   "source": [
    "# top 10 citations\n",
    "citations.charge_description.value_counts().head(10)"
   ]
  },
  {
   "cell_type": "code",
   "execution_count": 16,
   "metadata": {},
   "outputs": [
    {
     "data": {
      "text/plain": [
       "36626"
      ]
     },
     "execution_count": 16,
     "metadata": {},
     "output_type": "execute_result"
    }
   ],
   "source": [
    "# top 10 citations makes up over half of all citations\n",
    "citations.charge_description.value_counts().head(10).sum()"
   ]
  },
  {
   "cell_type": "code",
   "execution_count": 31,
   "metadata": {},
   "outputs": [],
   "source": [
    "top_citations = list(citations.charge_description.value_counts().head(10).index)"
   ]
  },
  {
   "cell_type": "code",
   "execution_count": 20,
   "metadata": {},
   "outputs": [],
   "source": [
    "top_locations = list(citations.street.value_counts().head(50).index)"
   ]
  },
  {
   "cell_type": "code",
   "execution_count": 22,
   "metadata": {},
   "outputs": [
    {
     "data": {
      "text/plain": [
       "['N Scottsdale Rd',\n",
       " 'E Camelback Rd',\n",
       " 'E Indian School Rd',\n",
       " 'N Hayden Rd',\n",
       " 'E Shea Bl',\n",
       " 'E McDowell Rd',\n",
       " 'E Thomas Rd',\n",
       " 'N Pima Rd',\n",
       " 'N Saddlebag Tr',\n",
       " 'E Indian Bend Rd',\n",
       " 'N Miller Rd',\n",
       " 'E Chaparral Rd',\n",
       " 'E Via Linda',\n",
       " 'E Cactus Rd',\n",
       " 'E Indian Pz',\n",
       " 'N Scottsdale Rd / E Thomas Rd',\n",
       " 'N 64th St / E Cholla St',\n",
       " 'N 64th St',\n",
       " 'E Frank Lloyd Wright Bl / L101',\n",
       " 'E Osborn Rd']"
      ]
     },
     "execution_count": 22,
     "metadata": {},
     "output_type": "execute_result"
    }
   ],
   "source": [
    "top_locations[0:20]"
   ]
  },
  {
   "cell_type": "code",
   "execution_count": 17,
   "metadata": {},
   "outputs": [],
   "source": [
    "# create feature for specific location each citation took place at\n",
    "# in case I want a higher level of detail than provided simply by streets\n",
    "citations['place_id'] = citations.street + ' - ' + citations.street_number"
   ]
  },
  {
   "cell_type": "code",
   "execution_count": 18,
   "metadata": {},
   "outputs": [],
   "source": [
    "# create feature for higher location granularity than simply street\n",
    "top_locations_place_id = list(citations.place_id.value_counts().head(50).index)"
   ]
  },
  {
   "cell_type": "code",
   "execution_count": 32,
   "metadata": {},
   "outputs": [],
   "source": [
    "# subset full citation dataset with only the top 20 citations by count and\n",
    "# the top 50 citation locations\n",
    "citations = citations[citations.charge_description.isin(top_citations) &\n",
    "                     citations.street.isin(top_locations)]"
   ]
  },
  {
   "cell_type": "code",
   "execution_count": 33,
   "metadata": {},
   "outputs": [
    {
     "data": {
      "text/plain": [
       "(18247, 27)"
      ]
     },
     "execution_count": 33,
     "metadata": {},
     "output_type": "execute_result"
    }
   ],
   "source": [
    "# how many citation meet the above criteria?\n",
    "citations.shape"
   ]
  },
  {
   "cell_type": "code",
   "execution_count": 34,
   "metadata": {},
   "outputs": [],
   "source": [
    "# segment age into buckets\n",
    "citations['age_breaks'] = pd.qcut(citations.cited_person_age, q=5)"
   ]
  },
  {
   "cell_type": "code",
   "execution_count": 35,
   "metadata": {},
   "outputs": [
    {
     "data": {
      "text/plain": [
       "(17.999, 24.0]    4431\n",
       "(24.0, 29.0]      3132\n",
       "(29.0, 37.0]      3395\n",
       "(37.0, 50.0]      3935\n",
       "(50.0, 97.0]      3354\n",
       "Name: age_breaks, dtype: int64"
      ]
     },
     "execution_count": 35,
     "metadata": {},
     "output_type": "execute_result"
    }
   ],
   "source": [
    "citations.age_breaks.value_counts().sort_index()"
   ]
  },
  {
   "cell_type": "code",
   "execution_count": 36,
   "metadata": {},
   "outputs": [
    {
     "data": {
      "text/html": [
       "<div>\n",
       "<style scoped>\n",
       "    .dataframe tbody tr th:only-of-type {\n",
       "        vertical-align: middle;\n",
       "    }\n",
       "\n",
       "    .dataframe tbody tr th {\n",
       "        vertical-align: top;\n",
       "    }\n",
       "\n",
       "    .dataframe thead th {\n",
       "        text-align: right;\n",
       "    }\n",
       "</style>\n",
       "<table border=\"1\" class=\"dataframe\">\n",
       "  <thead>\n",
       "    <tr style=\"text-align: right;\">\n",
       "      <th></th>\n",
       "      <th>arizona_statute_code</th>\n",
       "      <th>beat</th>\n",
       "      <th>charge_description</th>\n",
       "      <th>citation_#</th>\n",
       "      <th>citation_date</th>\n",
       "      <th>citation_time</th>\n",
       "      <th>citation_type_code</th>\n",
       "      <th>citation_type_description</th>\n",
       "      <th>cited_person</th>\n",
       "      <th>cited_person_age</th>\n",
       "      <th>cited_person_ethnicity</th>\n",
       "      <th>cited_person_race</th>\n",
       "      <th>cited_person_sex</th>\n",
       "      <th>city</th>\n",
       "      <th>district</th>\n",
       "      <th>officer_badge_#</th>\n",
       "      <th>state</th>\n",
       "      <th>street</th>\n",
       "      <th>street_number</th>\n",
       "      <th>zip</th>\n",
       "      <th>zone</th>\n",
       "      <th>tcmainid</th>\n",
       "      <th>month</th>\n",
       "      <th>day_of_week</th>\n",
       "      <th>week_of_year</th>\n",
       "      <th>hour_of_day</th>\n",
       "      <th>place_id</th>\n",
       "      <th>age_breaks</th>\n",
       "    </tr>\n",
       "  </thead>\n",
       "  <tbody>\n",
       "    <tr>\n",
       "      <td>0</td>\n",
       "      <td>28-701A</td>\n",
       "      <td>12.0</td>\n",
       "      <td>Speed Greater Than R&amp;P or Posted</td>\n",
       "      <td>8096915</td>\n",
       "      <td>2019-07-10</td>\n",
       "      <td>747</td>\n",
       "      <td>CV</td>\n",
       "      <td>Civil Traffic</td>\n",
       "      <td>Hansen, Christopher</td>\n",
       "      <td>19.0</td>\n",
       "      <td>N</td>\n",
       "      <td>W</td>\n",
       "      <td>M</td>\n",
       "      <td>Scottsdale</td>\n",
       "      <td>D3</td>\n",
       "      <td>1335</td>\n",
       "      <td>AZ</td>\n",
       "      <td>E Shea Bl</td>\n",
       "      <td>6xxx</td>\n",
       "      <td>NaN</td>\n",
       "      <td>3003</td>\n",
       "      <td>662799</td>\n",
       "      <td>7</td>\n",
       "      <td>2</td>\n",
       "      <td>28</td>\n",
       "      <td>7</td>\n",
       "      <td>E Shea Bl - 6xxx</td>\n",
       "      <td>(17.999, 24.0]</td>\n",
       "    </tr>\n",
       "    <tr>\n",
       "      <td>1</td>\n",
       "      <td>28-701A</td>\n",
       "      <td>12.0</td>\n",
       "      <td>Speed Greater Than R&amp;P or Posted</td>\n",
       "      <td>8096916</td>\n",
       "      <td>2019-07-10</td>\n",
       "      <td>800</td>\n",
       "      <td>CV</td>\n",
       "      <td>Civil Traffic</td>\n",
       "      <td>Koch, JOshua</td>\n",
       "      <td>36.0</td>\n",
       "      <td>N</td>\n",
       "      <td>W</td>\n",
       "      <td>M</td>\n",
       "      <td>Scottsdale</td>\n",
       "      <td>D3</td>\n",
       "      <td>1335</td>\n",
       "      <td>AZ</td>\n",
       "      <td>E Shea Bl</td>\n",
       "      <td>6xxx</td>\n",
       "      <td>NaN</td>\n",
       "      <td>3003</td>\n",
       "      <td>662801</td>\n",
       "      <td>7</td>\n",
       "      <td>2</td>\n",
       "      <td>28</td>\n",
       "      <td>8</td>\n",
       "      <td>E Shea Bl - 6xxx</td>\n",
       "      <td>(29.0, 37.0]</td>\n",
       "    </tr>\n",
       "    <tr>\n",
       "      <td>2</td>\n",
       "      <td>28-701A</td>\n",
       "      <td>7.0</td>\n",
       "      <td>Speed Greater Than R&amp;P or Posted</td>\n",
       "      <td>8096917</td>\n",
       "      <td>2019-07-10</td>\n",
       "      <td>853</td>\n",
       "      <td>CV</td>\n",
       "      <td>Civil Traffic</td>\n",
       "      <td>Dahl, Renee</td>\n",
       "      <td>61.0</td>\n",
       "      <td>N</td>\n",
       "      <td>W</td>\n",
       "      <td>F</td>\n",
       "      <td>Scottsdale</td>\n",
       "      <td>D2</td>\n",
       "      <td>1335</td>\n",
       "      <td>AZ</td>\n",
       "      <td>N Goldwater Bl</td>\n",
       "      <td>4xxx</td>\n",
       "      <td>NaN</td>\n",
       "      <td>1102</td>\n",
       "      <td>662802</td>\n",
       "      <td>7</td>\n",
       "      <td>2</td>\n",
       "      <td>28</td>\n",
       "      <td>8</td>\n",
       "      <td>N Goldwater Bl - 4xxx</td>\n",
       "      <td>(50.0, 97.0]</td>\n",
       "    </tr>\n",
       "    <tr>\n",
       "      <td>3</td>\n",
       "      <td>28-701A</td>\n",
       "      <td>7.0</td>\n",
       "      <td>Speed Greater Than R&amp;P or Posted</td>\n",
       "      <td>8096918</td>\n",
       "      <td>2019-07-11</td>\n",
       "      <td>843</td>\n",
       "      <td>CV</td>\n",
       "      <td>Civil Traffic</td>\n",
       "      <td>Lu, Hung</td>\n",
       "      <td>59.0</td>\n",
       "      <td>N</td>\n",
       "      <td>A</td>\n",
       "      <td>M</td>\n",
       "      <td>Scottsdale</td>\n",
       "      <td>D2</td>\n",
       "      <td>1335</td>\n",
       "      <td>AZ</td>\n",
       "      <td>N Goldwater Bl</td>\n",
       "      <td>4xxx</td>\n",
       "      <td>NaN</td>\n",
       "      <td>1102</td>\n",
       "      <td>662804</td>\n",
       "      <td>7</td>\n",
       "      <td>3</td>\n",
       "      <td>28</td>\n",
       "      <td>8</td>\n",
       "      <td>N Goldwater Bl - 4xxx</td>\n",
       "      <td>(50.0, 97.0]</td>\n",
       "    </tr>\n",
       "    <tr>\n",
       "      <td>4</td>\n",
       "      <td>28-701A</td>\n",
       "      <td>19.0</td>\n",
       "      <td>Speed Greater Than R&amp;P or Posted</td>\n",
       "      <td>8095091</td>\n",
       "      <td>2019-07-06</td>\n",
       "      <td>2215</td>\n",
       "      <td>CV</td>\n",
       "      <td>Civil Traffic</td>\n",
       "      <td>Noller-Johnson, Aarron</td>\n",
       "      <td>23.0</td>\n",
       "      <td>U</td>\n",
       "      <td>W</td>\n",
       "      <td>M</td>\n",
       "      <td>Scottsdale</td>\n",
       "      <td>D4</td>\n",
       "      <td>1450</td>\n",
       "      <td>AZ</td>\n",
       "      <td>N Pima Rd</td>\n",
       "      <td>2xxx</td>\n",
       "      <td>NaN</td>\n",
       "      <td>3801</td>\n",
       "      <td>662805</td>\n",
       "      <td>7</td>\n",
       "      <td>5</td>\n",
       "      <td>27</td>\n",
       "      <td>22</td>\n",
       "      <td>N Pima Rd - 2xxx</td>\n",
       "      <td>(17.999, 24.0]</td>\n",
       "    </tr>\n",
       "  </tbody>\n",
       "</table>\n",
       "</div>"
      ],
      "text/plain": [
       "  arizona_statute_code  beat                charge_description  citation_#  \\\n",
       "0              28-701A  12.0  Speed Greater Than R&P or Posted     8096915   \n",
       "1              28-701A  12.0  Speed Greater Than R&P or Posted     8096916   \n",
       "2              28-701A   7.0  Speed Greater Than R&P or Posted     8096917   \n",
       "3              28-701A   7.0  Speed Greater Than R&P or Posted     8096918   \n",
       "4              28-701A  19.0  Speed Greater Than R&P or Posted     8095091   \n",
       "\n",
       "  citation_date  citation_time citation_type_code citation_type_description  \\\n",
       "0    2019-07-10            747                 CV             Civil Traffic   \n",
       "1    2019-07-10            800                 CV             Civil Traffic   \n",
       "2    2019-07-10            853                 CV             Civil Traffic   \n",
       "3    2019-07-11            843                 CV             Civil Traffic   \n",
       "4    2019-07-06           2215                 CV             Civil Traffic   \n",
       "\n",
       "             cited_person  cited_person_age cited_person_ethnicity  \\\n",
       "0     Hansen, Christopher              19.0                      N   \n",
       "1            Koch, JOshua              36.0                      N   \n",
       "2             Dahl, Renee              61.0                      N   \n",
       "3                Lu, Hung              59.0                      N   \n",
       "4  Noller-Johnson, Aarron              23.0                      U   \n",
       "\n",
       "  cited_person_race cited_person_sex        city district   officer_badge_#  \\\n",
       "0                 W                M  Scottsdale       D3  1335               \n",
       "1                 W                M  Scottsdale       D3  1335               \n",
       "2                 W                F  Scottsdale       D2  1335               \n",
       "3                 A                M  Scottsdale       D2  1335               \n",
       "4                 W                M  Scottsdale       D4  1450               \n",
       "\n",
       "  state          street street_number  zip  zone  tcmainid  month  \\\n",
       "0    AZ       E Shea Bl          6xxx  NaN  3003    662799      7   \n",
       "1    AZ       E Shea Bl          6xxx  NaN  3003    662801      7   \n",
       "2    AZ  N Goldwater Bl          4xxx  NaN  1102    662802      7   \n",
       "3    AZ  N Goldwater Bl          4xxx  NaN  1102    662804      7   \n",
       "4    AZ       N Pima Rd          2xxx  NaN  3801    662805      7   \n",
       "\n",
       "   day_of_week  week_of_year  hour_of_day               place_id  \\\n",
       "0            2            28            7       E Shea Bl - 6xxx   \n",
       "1            2            28            8       E Shea Bl - 6xxx   \n",
       "2            2            28            8  N Goldwater Bl - 4xxx   \n",
       "3            3            28            8  N Goldwater Bl - 4xxx   \n",
       "4            5            27           22       N Pima Rd - 2xxx   \n",
       "\n",
       "       age_breaks  \n",
       "0  (17.999, 24.0]  \n",
       "1    (29.0, 37.0]  \n",
       "2    (50.0, 97.0]  \n",
       "3    (50.0, 97.0]  \n",
       "4  (17.999, 24.0]  "
      ]
     },
     "execution_count": 36,
     "metadata": {},
     "output_type": "execute_result"
    }
   ],
   "source": [
    "citations.head()"
   ]
  },
  {
   "cell_type": "code",
   "execution_count": 27,
   "metadata": {},
   "outputs": [
    {
     "data": {
      "text/html": [
       "<div>\n",
       "<style scoped>\n",
       "    .dataframe tbody tr th:only-of-type {\n",
       "        vertical-align: middle;\n",
       "    }\n",
       "\n",
       "    .dataframe tbody tr th {\n",
       "        vertical-align: top;\n",
       "    }\n",
       "\n",
       "    .dataframe thead th {\n",
       "        text-align: right;\n",
       "    }\n",
       "</style>\n",
       "<table border=\"1\" class=\"dataframe\">\n",
       "  <thead>\n",
       "    <tr style=\"text-align: right;\">\n",
       "      <th></th>\n",
       "      <th>beat</th>\n",
       "      <th>cited_person_age</th>\n",
       "      <th>citation_time</th>\n",
       "      <th>charge_description</th>\n",
       "      <th>month</th>\n",
       "      <th>day_of_week</th>\n",
       "      <th>week_of_year</th>\n",
       "      <th>hour_of_day</th>\n",
       "      <th>place_id</th>\n",
       "    </tr>\n",
       "  </thead>\n",
       "  <tbody>\n",
       "    <tr>\n",
       "      <td>0</td>\n",
       "      <td>12.0</td>\n",
       "      <td>19.0</td>\n",
       "      <td>747</td>\n",
       "      <td>Speed Greater Than R&amp;P or Posted</td>\n",
       "      <td>7</td>\n",
       "      <td>2</td>\n",
       "      <td>28</td>\n",
       "      <td>7</td>\n",
       "      <td>E Shea Bl - 6xxx</td>\n",
       "    </tr>\n",
       "    <tr>\n",
       "      <td>1</td>\n",
       "      <td>12.0</td>\n",
       "      <td>36.0</td>\n",
       "      <td>800</td>\n",
       "      <td>Speed Greater Than R&amp;P or Posted</td>\n",
       "      <td>7</td>\n",
       "      <td>2</td>\n",
       "      <td>28</td>\n",
       "      <td>8</td>\n",
       "      <td>E Shea Bl - 6xxx</td>\n",
       "    </tr>\n",
       "    <tr>\n",
       "      <td>2</td>\n",
       "      <td>7.0</td>\n",
       "      <td>61.0</td>\n",
       "      <td>853</td>\n",
       "      <td>Speed Greater Than R&amp;P or Posted</td>\n",
       "      <td>7</td>\n",
       "      <td>2</td>\n",
       "      <td>28</td>\n",
       "      <td>8</td>\n",
       "      <td>N Goldwater Bl - 4xxx</td>\n",
       "    </tr>\n",
       "    <tr>\n",
       "      <td>3</td>\n",
       "      <td>7.0</td>\n",
       "      <td>59.0</td>\n",
       "      <td>843</td>\n",
       "      <td>Speed Greater Than R&amp;P or Posted</td>\n",
       "      <td>7</td>\n",
       "      <td>3</td>\n",
       "      <td>28</td>\n",
       "      <td>8</td>\n",
       "      <td>N Goldwater Bl - 4xxx</td>\n",
       "    </tr>\n",
       "    <tr>\n",
       "      <td>4</td>\n",
       "      <td>19.0</td>\n",
       "      <td>23.0</td>\n",
       "      <td>2215</td>\n",
       "      <td>Speed Greater Than R&amp;P or Posted</td>\n",
       "      <td>7</td>\n",
       "      <td>5</td>\n",
       "      <td>27</td>\n",
       "      <td>22</td>\n",
       "      <td>N Pima Rd - 2xxx</td>\n",
       "    </tr>\n",
       "    <tr>\n",
       "      <td>...</td>\n",
       "      <td>...</td>\n",
       "      <td>...</td>\n",
       "      <td>...</td>\n",
       "      <td>...</td>\n",
       "      <td>...</td>\n",
       "      <td>...</td>\n",
       "      <td>...</td>\n",
       "      <td>...</td>\n",
       "      <td>...</td>\n",
       "    </tr>\n",
       "    <tr>\n",
       "      <td>22420</td>\n",
       "      <td>16.0</td>\n",
       "      <td>20.0</td>\n",
       "      <td>1224</td>\n",
       "      <td>Speed Greater Than R&amp;P or Posted</td>\n",
       "      <td>9</td>\n",
       "      <td>6</td>\n",
       "      <td>39</td>\n",
       "      <td>12</td>\n",
       "      <td>E Frank Lloyd Wright Bl / L101 -  xxx</td>\n",
       "    </tr>\n",
       "    <tr>\n",
       "      <td>22421</td>\n",
       "      <td>6.0</td>\n",
       "      <td>36.0</td>\n",
       "      <td>5</td>\n",
       "      <td>Urinate/Defecate In Public</td>\n",
       "      <td>9</td>\n",
       "      <td>6</td>\n",
       "      <td>39</td>\n",
       "      <td>0</td>\n",
       "      <td>N Miller Rd - 4xxx</td>\n",
       "    </tr>\n",
       "    <tr>\n",
       "      <td>22422</td>\n",
       "      <td>3.0</td>\n",
       "      <td>22.0</td>\n",
       "      <td>1616</td>\n",
       "      <td>Failure to Control Speed to Avoid A Collision</td>\n",
       "      <td>10</td>\n",
       "      <td>1</td>\n",
       "      <td>40</td>\n",
       "      <td>16</td>\n",
       "      <td>E Thomas Rd - 7xxx</td>\n",
       "    </tr>\n",
       "    <tr>\n",
       "      <td>22423</td>\n",
       "      <td>12.0</td>\n",
       "      <td>20.0</td>\n",
       "      <td>1722</td>\n",
       "      <td>Fail to Drive In A Single Lane</td>\n",
       "      <td>10</td>\n",
       "      <td>2</td>\n",
       "      <td>40</td>\n",
       "      <td>17</td>\n",
       "      <td>E Cactus Rd - 7xxx</td>\n",
       "    </tr>\n",
       "    <tr>\n",
       "      <td>22424</td>\n",
       "      <td>19.0</td>\n",
       "      <td>42.0</td>\n",
       "      <td>1115</td>\n",
       "      <td>Suspended/Revoked D.L.</td>\n",
       "      <td>10</td>\n",
       "      <td>3</td>\n",
       "      <td>40</td>\n",
       "      <td>11</td>\n",
       "      <td>E Hualapai DR / N Pima Rd -  xxx</td>\n",
       "    </tr>\n",
       "  </tbody>\n",
       "</table>\n",
       "<p>56403 rows × 9 columns</p>\n",
       "</div>"
      ],
      "text/plain": [
       "       beat  cited_person_age  citation_time  \\\n",
       "0      12.0              19.0            747   \n",
       "1      12.0              36.0            800   \n",
       "2       7.0              61.0            853   \n",
       "3       7.0              59.0            843   \n",
       "4      19.0              23.0           2215   \n",
       "...     ...               ...            ...   \n",
       "22420  16.0              20.0           1224   \n",
       "22421   6.0              36.0              5   \n",
       "22422   3.0              22.0           1616   \n",
       "22423  12.0              20.0           1722   \n",
       "22424  19.0              42.0           1115   \n",
       "\n",
       "                                  charge_description  month  day_of_week  \\\n",
       "0                   Speed Greater Than R&P or Posted      7            2   \n",
       "1                   Speed Greater Than R&P or Posted      7            2   \n",
       "2                   Speed Greater Than R&P or Posted      7            2   \n",
       "3                   Speed Greater Than R&P or Posted      7            3   \n",
       "4                   Speed Greater Than R&P or Posted      7            5   \n",
       "...                                              ...    ...          ...   \n",
       "22420               Speed Greater Than R&P or Posted      9            6   \n",
       "22421                     Urinate/Defecate In Public      9            6   \n",
       "22422  Failure to Control Speed to Avoid A Collision     10            1   \n",
       "22423                 Fail to Drive In A Single Lane     10            2   \n",
       "22424                         Suspended/Revoked D.L.     10            3   \n",
       "\n",
       "       week_of_year  hour_of_day                               place_id  \n",
       "0                28            7                       E Shea Bl - 6xxx  \n",
       "1                28            8                       E Shea Bl - 6xxx  \n",
       "2                28            8                  N Goldwater Bl - 4xxx  \n",
       "3                28            8                  N Goldwater Bl - 4xxx  \n",
       "4                27           22                       N Pima Rd - 2xxx  \n",
       "...             ...          ...                                    ...  \n",
       "22420            39           12  E Frank Lloyd Wright Bl / L101 -  xxx  \n",
       "22421            39            0                     N Miller Rd - 4xxx  \n",
       "22422            40           16                     E Thomas Rd - 7xxx  \n",
       "22423            40           17                     E Cactus Rd - 7xxx  \n",
       "22424            40           11       E Hualapai DR / N Pima Rd -  xxx  \n",
       "\n",
       "[56403 rows x 9 columns]"
      ]
     },
     "execution_count": 27,
     "metadata": {},
     "output_type": "execute_result"
    }
   ],
   "source": [
    "# combine features that I want to use for modeling\n",
    "pd.concat([citations[['beat',\n",
    "                    'cited_person_age',\n",
    "                    'citation_time',\n",
    "                    'charge_description']], \n",
    "             citations.iloc[:,-5:]], axis=1)"
   ]
  },
  {
   "cell_type": "code",
   "execution_count": 29,
   "metadata": {},
   "outputs": [],
   "source": [
    "# combine features that I want to use for modeling\n",
    "\n",
    "pd.concat([citations[['beat',\n",
    "                    'cited_person_age',\n",
    "                    'citation_time',\n",
    "                    'charge_description']], \n",
    "             citations.iloc[:,-5:]], axis=1).to_csv('data/clustering_features.csv', index=False)"
   ]
  },
  {
   "cell_type": "markdown",
   "metadata": {},
   "source": [
    "## EDA"
   ]
  },
  {
   "cell_type": "markdown",
   "metadata": {},
   "source": [
    "### \"Beat\" seems to describe patrol locations within the city, with the lowest beat numbers being the farthest south, and the highest beat numbers being in the north."
   ]
  },
  {
   "cell_type": "code",
   "execution_count": 104,
   "metadata": {},
   "outputs": [
    {
     "data": {
      "text/plain": [
       "1.0      868\n",
       "2.0      830\n",
       "3.0     1629\n",
       "4.0      959\n",
       "5.0      820\n",
       "6.0     1682\n",
       "7.0     1521\n",
       "8.0      550\n",
       "9.0      621\n",
       "10.0    1134\n",
       "11.0     459\n",
       "12.0    1381\n",
       "13.0     594\n",
       "14.0     683\n",
       "15.0    1068\n",
       "16.0     559\n",
       "17.0     578\n",
       "18.0     348\n",
       "19.0    1398\n",
       "20.0     382\n",
       "99.0     126\n",
       "Name: beat, dtype: int64"
      ]
     },
     "execution_count": 104,
     "metadata": {},
     "output_type": "execute_result"
    }
   ],
   "source": [
    "citations.beat.value_counts().sort_index()"
   ]
  },
  {
   "cell_type": "code",
   "execution_count": 102,
   "metadata": {},
   "outputs": [
    {
     "data": {
      "text/plain": [
       "E McDowell Rd                  353\n",
       "N Hayden Rd / E McDowell Rd    186\n",
       "E McKellips Rd                 133\n",
       "N Hayden Rd                     67\n",
       "N Miller Rd                     61\n",
       "N Scottsdale Rd                 60\n",
       "N Granite Reef Rd                4\n",
       "N 68th St                        4\n",
       "Name: street, dtype: int64"
      ]
     },
     "execution_count": 102,
     "metadata": {},
     "output_type": "execute_result"
    }
   ],
   "source": [
    "citations.loc[citations.beat == 1, 'street'].value_counts()"
   ]
  },
  {
   "cell_type": "code",
   "execution_count": 108,
   "metadata": {},
   "outputs": [
    {
     "data": {
      "text/plain": [
       "E Redfield Rd                                297\n",
       "E Frank Lloyd Wright Bl                      223\n",
       "E Frank Lloyd Wright Bl / N Hayden Rd        175\n",
       "E Frank Lloyd Wright Bl / N Scottsdale Rd    168\n",
       "N Scottsdale Rd                              157\n",
       "E Cactus Rd                                   32\n",
       "N Hayden Rd                                   15\n",
       "N 75th St                                      1\n",
       "Name: street, dtype: int64"
      ]
     },
     "execution_count": 108,
     "metadata": {},
     "output_type": "execute_result"
    }
   ],
   "source": [
    "citations.loc[citations.beat == 15, 'street'].value_counts()"
   ]
  },
  {
   "cell_type": "code",
   "execution_count": 106,
   "metadata": {},
   "outputs": [
    {
     "data": {
      "text/plain": [
       "N Hayden Rd                  435\n",
       "N Pima Rd                    424\n",
       "N Scottsdale Rd              358\n",
       "N Hayden Rd / E Legacy Bl    173\n",
       "N Miller Rd                    8\n",
       "Name: street, dtype: int64"
      ]
     },
     "execution_count": 106,
     "metadata": {},
     "output_type": "execute_result"
    }
   ],
   "source": [
    "citations.loc[citations.beat == 19, 'street'].value_counts()"
   ]
  }
 ],
 "metadata": {
  "kernelspec": {
   "display_name": "Python 3",
   "language": "python",
   "name": "python3"
  },
  "language_info": {
   "codemirror_mode": {
    "name": "ipython",
    "version": 3
   },
   "file_extension": ".py",
   "mimetype": "text/x-python",
   "name": "python",
   "nbconvert_exporter": "python",
   "pygments_lexer": "ipython3",
   "version": "3.7.3"
  }
 },
 "nbformat": 4,
 "nbformat_minor": 4
}
