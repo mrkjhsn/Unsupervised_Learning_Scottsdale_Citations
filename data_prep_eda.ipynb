{
 "cells": [
  {
   "cell_type": "markdown",
   "metadata": {},
   "source": [
    "### Data Source:\n",
    "On a weekly basis the City of Scottsdale Police Department publishes a [dataset](http://data.scottsdaleaz.gov/dataset/police-citations)* which includes one prior years worth citations.  These citations are largely made up of vehicle related infractions such as speeding.  \n",
    "\n",
    "Based on when I downloaded the data over the last few years, my combined dataset includes citations from September 2017 through January 2020.  In raw format the combined dataset includes just over 56K rows and 22 columns.  For privacy issues, the City of Scottsdale does not release citation data for anyone under 18.  \n",
    "\n",
    "<br/>\n",
    "\n",
    "*Contains information from the City of Scottsdale Open Database Portal, which is made available here under the [Open Database License](http://www.scottsdaleaz.gov/AssetFactory.aspx?did=69351).\n",
    "\n",
    "\n",
    "### Notebook Overview:\n",
    "1. Data Prep\n",
    "1. EDA\n",
    "1. Export Features\n",
    "\n",
    "## DATA PREPROCESSING"
   ]
  },
  {
   "cell_type": "code",
   "execution_count": 2,
   "metadata": {},
   "outputs": [],
   "source": [
    "import pandas as pd\n",
    "import numpy as np\n",
    "from scipy.stats import ttest_ind\n",
    "import matplotlib.pyplot as plt\n",
    "import matplotlib.ticker as ticker\n",
    "import seaborn as sns\n",
    "import datetime\n",
    "import glob\n",
    "pd.set_option('display.max_columns', None)\n",
    "sns.set(style='darkgrid')\n",
    "# plt.style.use('bmh')\n",
    "plt.rcParams['patch.edgecolor'] = 'none'\n",
    "\n",
    "import warnings\n",
    "warnings.filterwarnings('ignore')"
   ]
  },
  {
   "cell_type": "code",
   "execution_count": 3,
   "metadata": {},
   "outputs": [],
   "source": [
    "# read in csv files\n",
    "files = glob.glob('data/primary_data/*.csv')\n",
    "\n",
    "citations = pd.concat([pd.read_csv(f) \\\n",
    "                      for f in files], sort=True)"
   ]
  },
  {
   "cell_type": "code",
   "execution_count": 4,
   "metadata": {},
   "outputs": [
    {
     "data": {
      "text/html": [
       "<div>\n",
       "<style scoped>\n",
       "    .dataframe tbody tr th:only-of-type {\n",
       "        vertical-align: middle;\n",
       "    }\n",
       "\n",
       "    .dataframe tbody tr th {\n",
       "        vertical-align: top;\n",
       "    }\n",
       "\n",
       "    .dataframe thead th {\n",
       "        text-align: right;\n",
       "    }\n",
       "</style>\n",
       "<table border=\"1\" class=\"dataframe\">\n",
       "  <thead>\n",
       "    <tr style=\"text-align: right;\">\n",
       "      <th></th>\n",
       "      <th>Arizona Statute Code</th>\n",
       "      <th>Beat</th>\n",
       "      <th>Charge Description</th>\n",
       "      <th>Citation #</th>\n",
       "      <th>Citation Date</th>\n",
       "      <th>Citation Time</th>\n",
       "      <th>Citation Type Code</th>\n",
       "      <th>Citation Type Description</th>\n",
       "      <th>Cited Person</th>\n",
       "      <th>Cited Person Age</th>\n",
       "      <th>Cited Person Ethnicity</th>\n",
       "      <th>Cited Person Race</th>\n",
       "      <th>Cited Person Sex</th>\n",
       "      <th>City</th>\n",
       "      <th>District</th>\n",
       "      <th>Officer Badge #</th>\n",
       "      <th>State</th>\n",
       "      <th>Street</th>\n",
       "      <th>Street Number</th>\n",
       "      <th>Zip</th>\n",
       "      <th>Zone</th>\n",
       "      <th>tcmainid</th>\n",
       "    </tr>\n",
       "  </thead>\n",
       "  <tbody>\n",
       "    <tr>\n",
       "      <td>0</td>\n",
       "      <td>28-701A</td>\n",
       "      <td>12.0</td>\n",
       "      <td>Speed Greater Than R&amp;P or Posted</td>\n",
       "      <td>8096915</td>\n",
       "      <td>07/10/2019</td>\n",
       "      <td>747</td>\n",
       "      <td>CV</td>\n",
       "      <td>Civil Traffic</td>\n",
       "      <td>Hansen, Christopher</td>\n",
       "      <td>19</td>\n",
       "      <td>N</td>\n",
       "      <td>W</td>\n",
       "      <td>M</td>\n",
       "      <td>Scottsdale</td>\n",
       "      <td>D3</td>\n",
       "      <td>1335</td>\n",
       "      <td>AZ</td>\n",
       "      <td>E Shea Bl</td>\n",
       "      <td>6xxx</td>\n",
       "      <td>NaN</td>\n",
       "      <td>3003</td>\n",
       "      <td>662799</td>\n",
       "    </tr>\n",
       "    <tr>\n",
       "      <td>1</td>\n",
       "      <td>28-701A</td>\n",
       "      <td>12.0</td>\n",
       "      <td>Speed Greater Than R&amp;P or Posted</td>\n",
       "      <td>8096916</td>\n",
       "      <td>07/10/2019</td>\n",
       "      <td>800</td>\n",
       "      <td>CV</td>\n",
       "      <td>Civil Traffic</td>\n",
       "      <td>Koch, JOshua</td>\n",
       "      <td>36</td>\n",
       "      <td>N</td>\n",
       "      <td>W</td>\n",
       "      <td>M</td>\n",
       "      <td>Scottsdale</td>\n",
       "      <td>D3</td>\n",
       "      <td>1335</td>\n",
       "      <td>AZ</td>\n",
       "      <td>E Shea Bl</td>\n",
       "      <td>6xxx</td>\n",
       "      <td>NaN</td>\n",
       "      <td>3003</td>\n",
       "      <td>662801</td>\n",
       "    </tr>\n",
       "    <tr>\n",
       "      <td>2</td>\n",
       "      <td>28-701A</td>\n",
       "      <td>7.0</td>\n",
       "      <td>Speed Greater Than R&amp;P or Posted</td>\n",
       "      <td>8096917</td>\n",
       "      <td>07/10/2019</td>\n",
       "      <td>853</td>\n",
       "      <td>CV</td>\n",
       "      <td>Civil Traffic</td>\n",
       "      <td>Dahl, Renee</td>\n",
       "      <td>61</td>\n",
       "      <td>N</td>\n",
       "      <td>W</td>\n",
       "      <td>F</td>\n",
       "      <td>Scottsdale</td>\n",
       "      <td>D2</td>\n",
       "      <td>1335</td>\n",
       "      <td>AZ</td>\n",
       "      <td>N Goldwater Bl</td>\n",
       "      <td>4xxx</td>\n",
       "      <td>NaN</td>\n",
       "      <td>1102</td>\n",
       "      <td>662802</td>\n",
       "    </tr>\n",
       "    <tr>\n",
       "      <td>3</td>\n",
       "      <td>28-701A</td>\n",
       "      <td>7.0</td>\n",
       "      <td>Speed Greater Than R&amp;P or Posted</td>\n",
       "      <td>8096918</td>\n",
       "      <td>07/11/2019</td>\n",
       "      <td>843</td>\n",
       "      <td>CV</td>\n",
       "      <td>Civil Traffic</td>\n",
       "      <td>Lu, Hung</td>\n",
       "      <td>59</td>\n",
       "      <td>N</td>\n",
       "      <td>A</td>\n",
       "      <td>M</td>\n",
       "      <td>Scottsdale</td>\n",
       "      <td>D2</td>\n",
       "      <td>1335</td>\n",
       "      <td>AZ</td>\n",
       "      <td>N Goldwater Bl</td>\n",
       "      <td>4xxx</td>\n",
       "      <td>NaN</td>\n",
       "      <td>1102</td>\n",
       "      <td>662804</td>\n",
       "    </tr>\n",
       "    <tr>\n",
       "      <td>4</td>\n",
       "      <td>28-701A</td>\n",
       "      <td>19.0</td>\n",
       "      <td>Speed Greater Than R&amp;P or Posted</td>\n",
       "      <td>8095091</td>\n",
       "      <td>07/06/2019</td>\n",
       "      <td>2215</td>\n",
       "      <td>CV</td>\n",
       "      <td>Civil Traffic</td>\n",
       "      <td>Noller-Johnson, Aarron</td>\n",
       "      <td>23</td>\n",
       "      <td>U</td>\n",
       "      <td>W</td>\n",
       "      <td>M</td>\n",
       "      <td>Scottsdale</td>\n",
       "      <td>D4</td>\n",
       "      <td>1450</td>\n",
       "      <td>AZ</td>\n",
       "      <td>N Pima Rd</td>\n",
       "      <td>2xxx</td>\n",
       "      <td>NaN</td>\n",
       "      <td>3801</td>\n",
       "      <td>662805</td>\n",
       "    </tr>\n",
       "  </tbody>\n",
       "</table>\n",
       "</div>"
      ],
      "text/plain": [
       "  Arizona Statute Code  Beat                Charge Description  Citation #  \\\n",
       "0              28-701A  12.0  Speed Greater Than R&P or Posted     8096915   \n",
       "1              28-701A  12.0  Speed Greater Than R&P or Posted     8096916   \n",
       "2              28-701A   7.0  Speed Greater Than R&P or Posted     8096917   \n",
       "3              28-701A   7.0  Speed Greater Than R&P or Posted     8096918   \n",
       "4              28-701A  19.0  Speed Greater Than R&P or Posted     8095091   \n",
       "\n",
       "  Citation Date  Citation Time Citation Type Code Citation Type Description  \\\n",
       "0    07/10/2019            747                 CV             Civil Traffic   \n",
       "1    07/10/2019            800                 CV             Civil Traffic   \n",
       "2    07/10/2019            853                 CV             Civil Traffic   \n",
       "3    07/11/2019            843                 CV             Civil Traffic   \n",
       "4    07/06/2019           2215                 CV             Civil Traffic   \n",
       "\n",
       "             Cited Person Cited Person Age Cited Person Ethnicity  \\\n",
       "0     Hansen, Christopher               19                      N   \n",
       "1            Koch, JOshua               36                      N   \n",
       "2             Dahl, Renee               61                      N   \n",
       "3                Lu, Hung               59                      N   \n",
       "4  Noller-Johnson, Aarron               23                      U   \n",
       "\n",
       "  Cited Person Race Cited Person Sex        City District   Officer Badge #  \\\n",
       "0                 W                M  Scottsdale       D3  1335               \n",
       "1                 W                M  Scottsdale       D3  1335               \n",
       "2                 W                F  Scottsdale       D2  1335               \n",
       "3                 A                M  Scottsdale       D2  1335               \n",
       "4                 W                M  Scottsdale       D4  1450               \n",
       "\n",
       "  State          Street Street Number  Zip  Zone  tcmainid  \n",
       "0    AZ       E Shea Bl          6xxx  NaN  3003    662799  \n",
       "1    AZ       E Shea Bl          6xxx  NaN  3003    662801  \n",
       "2    AZ  N Goldwater Bl          4xxx  NaN  1102    662802  \n",
       "3    AZ  N Goldwater Bl          4xxx  NaN  1102    662804  \n",
       "4    AZ       N Pima Rd          2xxx  NaN  3801    662805  "
      ]
     },
     "execution_count": 4,
     "metadata": {},
     "output_type": "execute_result"
    }
   ],
   "source": [
    "citations.head()"
   ]
  },
  {
   "cell_type": "code",
   "execution_count": 5,
   "metadata": {},
   "outputs": [],
   "source": [
    "# for ease of convention convert column labels to lower case \n",
    "# and remove spaces from column names\n",
    "citations.columns = citations.columns.str.replace(' ', '_')\n",
    "citations.columns = map(str.lower, citations.columns)"
   ]
  },
  {
   "cell_type": "code",
   "execution_count": 6,
   "metadata": {},
   "outputs": [],
   "source": [
    "# remove duplicate citations due to overlap in data being downloaded\n",
    "citations.drop_duplicates('citation_#', inplace=True)"
   ]
  },
  {
   "cell_type": "code",
   "execution_count": 7,
   "metadata": {},
   "outputs": [
    {
     "data": {
      "text/plain": [
       "arizona_statute_code             0\n",
       "beat                           310\n",
       "charge_description               0\n",
       "citation_#                       0\n",
       "citation_date                    0\n",
       "citation_time                    0\n",
       "citation_type_code               0\n",
       "citation_type_description        0\n",
       "cited_person                     0\n",
       "cited_person_age                 0\n",
       "cited_person_ethnicity          26\n",
       "cited_person_race                0\n",
       "cited_person_sex                 3\n",
       "city                            63\n",
       "district                       856\n",
       "officer_badge_#                  0\n",
       "state                           90\n",
       "street                           4\n",
       "street_number                    0\n",
       "zip                          54159\n",
       "zone                             4\n",
       "tcmainid                         0\n",
       "dtype: int64"
      ]
     },
     "execution_count": 7,
     "metadata": {},
     "output_type": "execute_result"
    }
   ],
   "source": [
    "# examin null values\n",
    "citations.isnull().sum()"
   ]
  },
  {
   "cell_type": "code",
   "execution_count": 8,
   "metadata": {},
   "outputs": [],
   "source": [
    "# drop citations where beat is null\n",
    "citations.drop(citations[citations.beat.isnull()].index, inplace=True)"
   ]
  },
  {
   "cell_type": "code",
   "execution_count": 9,
   "metadata": {},
   "outputs": [],
   "source": [
    "# drop citations where beat is null\n",
    "citations.drop(citations[citations.street.isnull()].index, inplace=True)"
   ]
  },
  {
   "cell_type": "code",
   "execution_count": 10,
   "metadata": {},
   "outputs": [],
   "source": [
    "# change data type of age from object to number\n",
    "citations.cited_person_age = pd.to_numeric(citations.cited_person_age, errors='coerce')"
   ]
  },
  {
   "cell_type": "code",
   "execution_count": 11,
   "metadata": {},
   "outputs": [],
   "source": [
    "# one citation has no age\n",
    "# drop citations where age isn't provided\n",
    "\n",
    "citations.dropna(subset=['cited_person_age'], inplace=True)"
   ]
  },
  {
   "cell_type": "code",
   "execution_count": 12,
   "metadata": {},
   "outputs": [],
   "source": [
    "# convert citation date to datetime format\n",
    "citations['citation_date'] = pd.to_datetime(citations['citation_date'])\n",
    "\n",
    "# create month column\n",
    "citations['month'] = citations['citation_date'].dt.month\n",
    "\n",
    "# create day of week column\n",
    "citations['day_of_week'] = citations['citation_date'].dt.dayofweek\n",
    "\n",
    "# extract the hour of the day from the citation time column\n",
    "# hour of day is in non-standard datetime format\n",
    "citations['hour_of_day'] = citations['citation_time'].apply(lambda x: str(x)[-4:-2])\n",
    "\n",
    "# replace blanks with 0\n",
    "# this happened for citations that took place during the hour of 12am\n",
    "citations.loc[citations.hour_of_day == '', 'hour_of_day'] = 0\n",
    "# change data type of hour from object to number\n",
    "citations.hour_of_day = pd.to_numeric(citations.hour_of_day)"
   ]
  },
  {
   "cell_type": "code",
   "execution_count": 13,
   "metadata": {},
   "outputs": [
    {
     "data": {
      "text/plain": [
       "(55747, 25)"
      ]
     },
     "execution_count": 13,
     "metadata": {},
     "output_type": "execute_result"
    }
   ],
   "source": [
    "# how many rows and columns are in the dataset?\n",
    "citations.shape"
   ]
  },
  {
   "cell_type": "markdown",
   "metadata": {},
   "source": [
    "## EDA"
   ]
  },
  {
   "cell_type": "markdown",
   "metadata": {},
   "source": [
    "#### Citation Types"
   ]
  },
  {
   "cell_type": "code",
   "execution_count": 14,
   "metadata": {},
   "outputs": [
    {
     "data": {
      "text/plain": [
       "Criminal Damage-Deface                     149\n",
       "False Report to Law Enforcement            146\n",
       "Adequate Windshield Required-Automobile    145\n",
       "Drive Wrong Way On One Way Road            130\n",
       "Liquor-Under 21 Any Liquor In Body         127\n",
       "Reckless Driving                           120\n",
       "Waste of Finite Resource <=65mph           114\n",
       "F/Obey Police Officer                      112\n",
       "Improper Material/Tint On Window           107\n",
       "Fail to Yield On Green                     106\n",
       "Name: charge_description, dtype: int64"
      ]
     },
     "execution_count": 14,
     "metadata": {},
     "output_type": "execute_result"
    }
   ],
   "source": [
    "citations.charge_description.value_counts()[citations.charge_description.value_counts().values > 100].tail(10)"
   ]
  },
  {
   "cell_type": "code",
   "execution_count": 15,
   "metadata": {},
   "outputs": [
    {
     "data": {
      "text/plain": [
       "415"
      ]
     },
     "execution_count": 15,
     "metadata": {},
     "output_type": "execute_result"
    }
   ],
   "source": [
    "# there are a huge number of unique citations\n",
    "citations.charge_description.nunique()"
   ]
  },
  {
   "cell_type": "code",
   "execution_count": 16,
   "metadata": {},
   "outputs": [
    {
     "data": {
      "text/plain": [
       "No Lic. Driver Age 21+ Beside Person W/ Permit Only    4\n",
       "Parking On Sidewalk                                    4\n",
       "Stat Emerg Veh - Yld Rght of Way - Reduce Speed        4\n",
       "Criminal Damage-Tamper                                 4\n",
       "Vehicle Must Have Adequate Muffler                     4\n",
       "                                                      ..\n",
       "Drive Through Safety Zone                              1\n",
       "Brakes Inoperable/Defective                            1\n",
       "Pedestrian Crossing On Red Signal                      1\n",
       "Permittee Must Possess Instruction Permit              1\n",
       "Marijuana-Possess/Use                                  1\n",
       "Name: charge_description, Length: 202, dtype: int64"
      ]
     },
     "execution_count": 16,
     "metadata": {},
     "output_type": "execute_result"
    }
   ],
   "source": [
    "# many of which are received by only a few people \n",
    "# roughtly half were issued to fewer than 5 people\n",
    "citations.charge_description.value_counts()[citations.charge_description.value_counts().values < 5]"
   ]
  },
  {
   "cell_type": "code",
   "execution_count": 17,
   "metadata": {},
   "outputs": [
    {
     "data": {
      "text/plain": [
       "(202,)"
      ]
     },
     "execution_count": 17,
     "metadata": {},
     "output_type": "execute_result"
    }
   ],
   "source": [
    "# many of which are received by only a few people \n",
    "citations.charge_description.value_counts()[citations.charge_description.value_counts().values < 5].shape"
   ]
  },
  {
   "cell_type": "code",
   "execution_count": 18,
   "metadata": {},
   "outputs": [
    {
     "data": {
      "image/png": "[encoded data removed]",
      "text/plain": [
       "<Figure size 1080x216 with 1 Axes>"
      ]
     },
     "metadata": {
      "needs_background": "light"
     },
     "output_type": "display_data"
    }
   ],
   "source": [
    "plt.figure(figsize=(15, 3))\n",
    "plt.hist(citations.charge_description.value_counts().values, bins=50);"
   ]
  },
  {
   "cell_type": "code",
   "execution_count": 19,
   "metadata": {},
   "outputs": [
    {
     "data": {
      "text/plain": [
       "Speed Greater Than R&P or Posted                 13137\n",
       "Expired/No Arizona Registration                   4544\n",
       "Suspended/Revoked D.L.                            3349\n",
       "DUI-Impaired to Slightest Degree                  2712\n",
       "Failure to Control Speed to Avoid A Collision     2653\n",
       "Drug Paraphernalia-Possess/Use                    2486\n",
       "No Proof of Insurance                             2475\n",
       "Fail to Obey Traffic Control Device               1852\n",
       "Fail to Stop For Red Signal                       1525\n",
       "Fail to Stop at Stop Sign                         1450\n",
       "Exceed Limit By More Than 20mph                   1245\n",
       "Exceed 15mph In School Crossing                    989\n",
       "Name: charge_description, dtype: int64"
      ]
     },
     "execution_count": 19,
     "metadata": {},
     "output_type": "execute_result"
    }
   ],
   "source": [
    "citations.charge_description.value_counts().head(12)"
   ]
  },
  {
   "cell_type": "code",
   "execution_count": 20,
   "metadata": {},
   "outputs": [
    {
     "data": {
      "image/png": "[encoded data removed]",
      "text/plain": [
       "<Figure size 432x432 with 1 Axes>"
      ]
     },
     "metadata": {},
     "output_type": "display_data"
    }
   ],
   "source": [
    "# examine distribution of top 12 citations visually\n",
    "plt.figure(figsize=(6, 6))\n",
    "\n",
    "citations.charge_description.value_counts().head(12).rename('').plot(\n",
    "    kind='pie',\n",
    "    title= 'TOP 12 CITATIONS');"
   ]
  },
  {
   "cell_type": "code",
   "execution_count": 21,
   "metadata": {},
   "outputs": [
    {
     "data": {
      "text/plain": [
       "0.6891312536997507"
      ]
     },
     "execution_count": 21,
     "metadata": {},
     "output_type": "execute_result"
    }
   ],
   "source": [
    "# what percent do the top 12 citations make up?\n",
    "citations.charge_description.value_counts().head(12).sum() / citations.shape[0]"
   ]
  },
  {
   "cell_type": "code",
   "execution_count": 22,
   "metadata": {},
   "outputs": [],
   "source": [
    "# in order to more effectively find clusters\n",
    "# I will subset the full dataset with only the top 12 citations\n",
    "top_citations = list(citations.charge_description.value_counts().head(12).index)\n",
    "\n",
    "citations = citations[citations.charge_description.isin(top_citations)]"
   ]
  },
  {
   "cell_type": "code",
   "execution_count": 23,
   "metadata": {},
   "outputs": [
    {
     "data": {
      "text/plain": [
       "(38417, 25)"
      ]
     },
     "execution_count": 23,
     "metadata": {},
     "output_type": "execute_result"
    }
   ],
   "source": [
    "# how large is the subset dataset?\n",
    "citations.shape"
   ]
  },
  {
   "cell_type": "markdown",
   "metadata": {},
   "source": [
    "#### Citation Locations"
   ]
  },
  {
   "cell_type": "code",
   "execution_count": 24,
   "metadata": {},
   "outputs": [
    {
     "data": {
      "text/plain": [
       "N Scottsdale Rd                      2706\n",
       "E Indian School Rd                   1566\n",
       "E Shea Bl                            1294\n",
       "N Hayden Rd                          1218\n",
       "E Camelback Rd                        988\n",
       "                                     ... \n",
       "N 64th St / E Turquoise Av              1\n",
       "N 69th Pl / E Chaparral Rd              1\n",
       "E Edgemont Av / N Granite Reef Rd       1\n",
       "E Mulberry St                           1\n",
       "E Rimrock DR                            1\n",
       "Name: street, Length: 1658, dtype: int64"
      ]
     },
     "execution_count": 24,
     "metadata": {},
     "output_type": "execute_result"
    }
   ],
   "source": [
    "# citation locations are highly distributed throughout the city\n",
    "citations.street.value_counts()"
   ]
  },
  {
   "cell_type": "code",
   "execution_count": 25,
   "metadata": {},
   "outputs": [
    {
     "data": {
      "image/png": "[encoded data removed]",
      "text/plain": [
       "<Figure size 1080x216 with 1 Axes>"
      ]
     },
     "metadata": {
      "needs_background": "light"
     },
     "output_type": "display_data"
    }
   ],
   "source": [
    "plt.figure(figsize=(15, 3))\n",
    "plt.hist(citations.street.value_counts().values, bins=50);"
   ]
  },
  {
   "cell_type": "code",
   "execution_count": 26,
   "metadata": {},
   "outputs": [
    {
     "data": {
      "text/html": [
       "<div>\n",
       "<style scoped>\n",
       "    .dataframe tbody tr th:only-of-type {\n",
       "        vertical-align: middle;\n",
       "    }\n",
       "\n",
       "    .dataframe tbody tr th {\n",
       "        vertical-align: top;\n",
       "    }\n",
       "\n",
       "    .dataframe thead th {\n",
       "        text-align: right;\n",
       "    }\n",
       "</style>\n",
       "<table border=\"1\" class=\"dataframe\">\n",
       "  <thead>\n",
       "    <tr style=\"text-align: right;\">\n",
       "      <th></th>\n",
       "      <th>street</th>\n",
       "      <th>street_number</th>\n",
       "    </tr>\n",
       "  </thead>\n",
       "  <tbody>\n",
       "    <tr>\n",
       "      <td>0</td>\n",
       "      <td>E Shea Bl</td>\n",
       "      <td>6xxx</td>\n",
       "    </tr>\n",
       "    <tr>\n",
       "      <td>1</td>\n",
       "      <td>E Shea Bl</td>\n",
       "      <td>6xxx</td>\n",
       "    </tr>\n",
       "    <tr>\n",
       "      <td>2</td>\n",
       "      <td>N Goldwater Bl</td>\n",
       "      <td>4xxx</td>\n",
       "    </tr>\n",
       "    <tr>\n",
       "      <td>3</td>\n",
       "      <td>N Goldwater Bl</td>\n",
       "      <td>4xxx</td>\n",
       "    </tr>\n",
       "    <tr>\n",
       "      <td>4</td>\n",
       "      <td>N Pima Rd</td>\n",
       "      <td>2xxx</td>\n",
       "    </tr>\n",
       "    <tr>\n",
       "      <td>...</td>\n",
       "      <td>...</td>\n",
       "      <td>...</td>\n",
       "    </tr>\n",
       "    <tr>\n",
       "      <td>22418</td>\n",
       "      <td>N 104th St / E Shea Bl</td>\n",
       "      <td>xxx</td>\n",
       "    </tr>\n",
       "    <tr>\n",
       "      <td>22419</td>\n",
       "      <td>N Alma School Rd / E Happy Valley Rd</td>\n",
       "      <td>xxx</td>\n",
       "    </tr>\n",
       "    <tr>\n",
       "      <td>22420</td>\n",
       "      <td>E Frank Lloyd Wright Bl / L101</td>\n",
       "      <td>xxx</td>\n",
       "    </tr>\n",
       "    <tr>\n",
       "      <td>22422</td>\n",
       "      <td>E Thomas Rd</td>\n",
       "      <td>7xxx</td>\n",
       "    </tr>\n",
       "    <tr>\n",
       "      <td>22424</td>\n",
       "      <td>E Hualapai DR / N Pima Rd</td>\n",
       "      <td>xxx</td>\n",
       "    </tr>\n",
       "  </tbody>\n",
       "</table>\n",
       "<p>38417 rows × 2 columns</p>\n",
       "</div>"
      ],
      "text/plain": [
       "                                     street street_number\n",
       "0                                 E Shea Bl          6xxx\n",
       "1                                 E Shea Bl          6xxx\n",
       "2                            N Goldwater Bl          4xxx\n",
       "3                            N Goldwater Bl          4xxx\n",
       "4                                 N Pima Rd          2xxx\n",
       "...                                     ...           ...\n",
       "22418                N 104th St / E Shea Bl           xxx\n",
       "22419  N Alma School Rd / E Happy Valley Rd           xxx\n",
       "22420        E Frank Lloyd Wright Bl / L101           xxx\n",
       "22422                           E Thomas Rd          7xxx\n",
       "22424             E Hualapai DR / N Pima Rd           xxx\n",
       "\n",
       "[38417 rows x 2 columns]"
      ]
     },
     "execution_count": 26,
     "metadata": {},
     "output_type": "execute_result"
    }
   ],
   "source": [
    "# first digit of street number of where citation is issued\n",
    "# is also included in the dataset\n",
    "# this provides a more granular location \n",
    "citations[['street', 'street_number']]"
   ]
  },
  {
   "cell_type": "code",
   "execution_count": 27,
   "metadata": {},
   "outputs": [],
   "source": [
    "# create feature for specific location each citation took place at\n",
    "# in case I want a higher level of detail than provided simply by streets\n",
    "citations['place_id'] = citations.street + ' - ' + citations.street_number"
   ]
  },
  {
   "cell_type": "code",
   "execution_count": 28,
   "metadata": {},
   "outputs": [
    {
     "data": {
      "text/plain": [
       "1.0     1989\n",
       "2.0     1325\n",
       "3.0     2615\n",
       "4.0     1259\n",
       "5.0     1265\n",
       "6.0     3604\n",
       "7.0     3012\n",
       "8.0     1136\n",
       "9.0      977\n",
       "10.0    2064\n",
       "11.0    1599\n",
       "12.0    2359\n",
       "13.0    1627\n",
       "14.0    1261\n",
       "15.0    2294\n",
       "16.0    1275\n",
       "17.0    1699\n",
       "18.0    1099\n",
       "19.0    3664\n",
       "20.0    1884\n",
       "99.0     410\n",
       "Name: beat, dtype: int64"
      ]
     },
     "execution_count": 28,
     "metadata": {},
     "output_type": "execute_result"
    }
   ],
   "source": [
    "# \"Beat\" seems to describe patrol locations within the city\n",
    "# with the lowest beat numbers being the farthest south\n",
    "# and the highest beat numbers being in the north\n",
    "\n",
    "citations.beat.value_counts().sort_index()"
   ]
  },
  {
   "cell_type": "code",
   "execution_count": 29,
   "metadata": {},
   "outputs": [
    {
     "data": {
      "text/plain": [
       "E McDowell Rd                  373\n",
       "N Miller Rd                    269\n",
       "N Hayden Rd / E McDowell Rd    185\n",
       "E McKellips Rd                 138\n",
       "N 68th St / E McDowell Rd       88\n",
       "                              ... \n",
       "N 70th St / E Portland St        1\n",
       "N 74th St / E Skysong Bl         1\n",
       "E Fillmore St                    1\n",
       "N 70th St / E Loma Land DR       1\n",
       "E Moreland St                    1\n",
       "Name: street, Length: 97, dtype: int64"
      ]
     },
     "execution_count": 29,
     "metadata": {},
     "output_type": "execute_result"
    }
   ],
   "source": [
    "# examine street locations associated with beat #1\n",
    "citations.loc[citations.beat == 1, 'street'].value_counts()"
   ]
  },
  {
   "cell_type": "code",
   "execution_count": 30,
   "metadata": {},
   "outputs": [
    {
     "data": {
      "text/plain": [
       "N Scottsdale Rd                       617\n",
       "E Indian Bend Rd                      401\n",
       "N Hayden Rd                           149\n",
       "N Hayden Rd / E Indian Bend Rd        101\n",
       "E Indian Bend Rd / N Scottsdale Rd     96\n",
       "                                     ... \n",
       "E Doubletree Ranch Rd                   1\n",
       "E San Rafael DR / E Via Linda           1\n",
       "E Via De La Escuela                     1\n",
       "E Del Cadena DR                         1\n",
       "E Via Paseo Del Sur                     1\n",
       "Name: street, Length: 79, dtype: int64"
      ]
     },
     "execution_count": 30,
     "metadata": {},
     "output_type": "execute_result"
    }
   ],
   "source": [
    "# examine street locations associated with beat #10\n",
    "citations.loc[citations.beat == 10, 'street'].value_counts()"
   ]
  },
  {
   "cell_type": "code",
   "execution_count": 31,
   "metadata": {},
   "outputs": [
    {
     "data": {
      "text/plain": [
       "N Scottsdale Rd                244\n",
       "N Hayden Rd / E Westland DR    144\n",
       "N Alma School Py               129\n",
       "E Dynamite Bl                  114\n",
       "N Pima Rd                       91\n",
       "                              ... \n",
       "N Pima Rd / E Woodley Wy         1\n",
       "N 67th St / E Dixileta DR        1\n",
       "N 68th St                        1\n",
       "E Via Dona Rd                    1\n",
       "N 64th St / E JOmax Rd           1\n",
       "Name: street, Length: 167, dtype: int64"
      ]
     },
     "execution_count": 31,
     "metadata": {},
     "output_type": "execute_result"
    }
   ],
   "source": [
    "# examine street locations associated with beat #20\n",
    "citations.loc[citations.beat == 20, 'street'].value_counts()"
   ]
  },
  {
   "cell_type": "code",
   "execution_count": 32,
   "metadata": {},
   "outputs": [
    {
     "data": {
      "text/plain": [
       "E McKellips Rd / N Scottsdale Rd     48\n",
       "E Indian School Rd / N Pima Rd       30\n",
       "N 90th St / L101                     25\n",
       "N 64th St / E McDowell Rd            24\n",
       "E Jackrabbit Rd / N Scottsdale Rd    21\n",
       "                                     ..\n",
       "E Stagecoach Pass Rd                  1\n",
       "E Fillmore St                         1\n",
       "E Papago DR / N Scottsdale Rd         1\n",
       "E Lone Mountain Rd                    1\n",
       "L101 Sb                               1\n",
       "Name: street, Length: 75, dtype: int64"
      ]
     },
     "execution_count": 32,
     "metadata": {},
     "output_type": "execute_result"
    }
   ],
   "source": [
    "# examine street locations associated with beat #99\n",
    "# this beat clearly doesn't fit in with the normal beat sequencing\n",
    "citations.loc[citations.beat == 99, 'street'].value_counts()"
   ]
  },
  {
   "cell_type": "markdown",
   "metadata": {},
   "source": [
    "Beat 99 has fewer citations associated with it, they also seem to be spread out throughout Scottsdale."
   ]
  },
  {
   "cell_type": "code",
   "execution_count": 33,
   "metadata": {},
   "outputs": [
    {
     "data": {
      "image/png": "[encoded data removed]",
      "text/plain": [
       "<Figure size 432x432 with 1 Axes>"
      ]
     },
     "metadata": {},
     "output_type": "display_data"
    }
   ],
   "source": [
    "# visualize distribution of beats by citations\n",
    "plt.figure(figsize=(6, 6))\n",
    "\n",
    "citations.beat.value_counts().sort_index().rename('').plot(\n",
    "    kind='pie',\n",
    "    title='BEAT DISTRIBUTION BY CITATIONS');"
   ]
  },
  {
   "cell_type": "markdown",
   "metadata": {},
   "source": [
    "Overall citations seem to be quite evenly distributed by beat location."
   ]
  },
  {
   "cell_type": "markdown",
   "metadata": {},
   "source": [
    "#### Age of Person Receiving the Citation"
   ]
  },
  {
   "cell_type": "code",
   "execution_count": 34,
   "metadata": {},
   "outputs": [
    {
     "data": {
      "image/png": "[encoded data removed]",
      "text/plain": [
       "<Figure size 864x288 with 1 Axes>"
      ]
     },
     "metadata": {
      "needs_background": "light"
     },
     "output_type": "display_data"
    }
   ],
   "source": [
    "plt.figure(figsize=(12, 4))\n",
    "\n",
    "plt.hist(citations.cited_person_age, bins=30, alpha=.5);"
   ]
  },
  {
   "cell_type": "markdown",
   "metadata": {},
   "source": [
    "Ages of people receiving citations clearly skews younger."
   ]
  },
  {
   "cell_type": "markdown",
   "metadata": {},
   "source": [
    "#### Hour of the Day in Which Citations are Frequently Issued"
   ]
  },
  {
   "cell_type": "code",
   "execution_count": 35,
   "metadata": {},
   "outputs": [
    {
     "data": {
      "image/png": "[encoded data removed]",
      "text/plain": [
       "<Figure size 864x288 with 1 Axes>"
      ]
     },
     "metadata": {
      "needs_background": "light"
     },
     "output_type": "display_data"
    }
   ],
   "source": [
    "plt.figure(figsize=(12, 4))\n",
    "\n",
    "plt.hist(citations.hour_of_day, bins=24, alpha=.5);"
   ]
  },
  {
   "cell_type": "markdown",
   "metadata": {},
   "source": [
    "This distribution looks predictable, with spikes in the morning when people are driving to work, as well as in the afternoon when people are returning from work.  Additionally, there is a spike in the late evening - probably associated with DUIs or disorderly conduct."
   ]
  },
  {
   "cell_type": "markdown",
   "metadata": {},
   "source": [
    "#### Day of the Week in Which Citations are Frequently Issued"
   ]
  },
  {
   "cell_type": "code",
   "execution_count": 36,
   "metadata": {},
   "outputs": [
    {
     "data": {
      "image/png": "[encoded data removed]",
      "text/plain": [
       "<Figure size 864x288 with 1 Axes>"
      ]
     },
     "metadata": {
      "needs_background": "light"
     },
     "output_type": "display_data"
    }
   ],
   "source": [
    "plt.figure(figsize=(12, 4))\n",
    "\n",
    "plt.hist(citations.day_of_week, bins=7, alpha=.5);"
   ]
  },
  {
   "cell_type": "markdown",
   "metadata": {},
   "source": [
    "It surprises me that more citations aren't issued on the weekend."
   ]
  },
  {
   "cell_type": "markdown",
   "metadata": {},
   "source": [
    "#### Month of the Year in Which Citations are Issued"
   ]
  },
  {
   "cell_type": "code",
   "execution_count": 37,
   "metadata": {},
   "outputs": [
    {
     "data": {
      "image/png": "[encoded data removed]",
      "text/plain": [
       "<Figure size 864x288 with 1 Axes>"
      ]
     },
     "metadata": {
      "needs_background": "light"
     },
     "output_type": "display_data"
    }
   ],
   "source": [
    "plt.figure(figsize=(12, 4))\n",
    "\n",
    "plt.hist(citations.month, bins=12, alpha=.5);"
   ]
  },
  {
   "cell_type": "markdown",
   "metadata": {},
   "source": [
    "It's unclear to me why there are so many citations later in the year, especially October and November.  Also, I would expect a steeper drop during the summer months when fewer cold weather visitors are in the area."
   ]
  },
  {
   "cell_type": "markdown",
   "metadata": {},
   "source": [
    "## DEFINE FEATURES TO PERFORM ANALYSIS ON"
   ]
  },
  {
   "cell_type": "code",
   "execution_count": 39,
   "metadata": {},
   "outputs": [
    {
     "data": {
      "text/html": [
       "<div>\n",
       "<style scoped>\n",
       "    .dataframe tbody tr th:only-of-type {\n",
       "        vertical-align: middle;\n",
       "    }\n",
       "\n",
       "    .dataframe tbody tr th {\n",
       "        vertical-align: top;\n",
       "    }\n",
       "\n",
       "    .dataframe thead th {\n",
       "        text-align: right;\n",
       "    }\n",
       "</style>\n",
       "<table border=\"1\" class=\"dataframe\">\n",
       "  <thead>\n",
       "    <tr style=\"text-align: right;\">\n",
       "      <th></th>\n",
       "      <th>arizona_statute_code</th>\n",
       "      <th>beat</th>\n",
       "      <th>charge_description</th>\n",
       "      <th>citation_#</th>\n",
       "      <th>citation_date</th>\n",
       "      <th>citation_time</th>\n",
       "      <th>citation_type_code</th>\n",
       "      <th>citation_type_description</th>\n",
       "      <th>cited_person</th>\n",
       "      <th>cited_person_age</th>\n",
       "      <th>cited_person_ethnicity</th>\n",
       "      <th>cited_person_race</th>\n",
       "      <th>cited_person_sex</th>\n",
       "      <th>city</th>\n",
       "      <th>district</th>\n",
       "      <th>officer_badge_#</th>\n",
       "      <th>state</th>\n",
       "      <th>street</th>\n",
       "      <th>street_number</th>\n",
       "      <th>zip</th>\n",
       "      <th>zone</th>\n",
       "      <th>tcmainid</th>\n",
       "      <th>month</th>\n",
       "      <th>day_of_week</th>\n",
       "      <th>hour_of_day</th>\n",
       "      <th>place_id</th>\n",
       "    </tr>\n",
       "  </thead>\n",
       "  <tbody>\n",
       "    <tr>\n",
       "      <td>0</td>\n",
       "      <td>28-701A</td>\n",
       "      <td>12.0</td>\n",
       "      <td>Speed Greater Than R&amp;P or Posted</td>\n",
       "      <td>8096915</td>\n",
       "      <td>2019-07-10</td>\n",
       "      <td>747</td>\n",
       "      <td>CV</td>\n",
       "      <td>Civil Traffic</td>\n",
       "      <td>Hansen, Christopher</td>\n",
       "      <td>19.0</td>\n",
       "      <td>N</td>\n",
       "      <td>W</td>\n",
       "      <td>M</td>\n",
       "      <td>Scottsdale</td>\n",
       "      <td>D3</td>\n",
       "      <td>1335</td>\n",
       "      <td>AZ</td>\n",
       "      <td>E Shea Bl</td>\n",
       "      <td>6xxx</td>\n",
       "      <td>NaN</td>\n",
       "      <td>3003</td>\n",
       "      <td>662799</td>\n",
       "      <td>7</td>\n",
       "      <td>2</td>\n",
       "      <td>7</td>\n",
       "      <td>E Shea Bl - 6xxx</td>\n",
       "    </tr>\n",
       "    <tr>\n",
       "      <td>1</td>\n",
       "      <td>28-701A</td>\n",
       "      <td>12.0</td>\n",
       "      <td>Speed Greater Than R&amp;P or Posted</td>\n",
       "      <td>8096916</td>\n",
       "      <td>2019-07-10</td>\n",
       "      <td>800</td>\n",
       "      <td>CV</td>\n",
       "      <td>Civil Traffic</td>\n",
       "      <td>Koch, JOshua</td>\n",
       "      <td>36.0</td>\n",
       "      <td>N</td>\n",
       "      <td>W</td>\n",
       "      <td>M</td>\n",
       "      <td>Scottsdale</td>\n",
       "      <td>D3</td>\n",
       "      <td>1335</td>\n",
       "      <td>AZ</td>\n",
       "      <td>E Shea Bl</td>\n",
       "      <td>6xxx</td>\n",
       "      <td>NaN</td>\n",
       "      <td>3003</td>\n",
       "      <td>662801</td>\n",
       "      <td>7</td>\n",
       "      <td>2</td>\n",
       "      <td>8</td>\n",
       "      <td>E Shea Bl - 6xxx</td>\n",
       "    </tr>\n",
       "    <tr>\n",
       "      <td>2</td>\n",
       "      <td>28-701A</td>\n",
       "      <td>7.0</td>\n",
       "      <td>Speed Greater Than R&amp;P or Posted</td>\n",
       "      <td>8096917</td>\n",
       "      <td>2019-07-10</td>\n",
       "      <td>853</td>\n",
       "      <td>CV</td>\n",
       "      <td>Civil Traffic</td>\n",
       "      <td>Dahl, Renee</td>\n",
       "      <td>61.0</td>\n",
       "      <td>N</td>\n",
       "      <td>W</td>\n",
       "      <td>F</td>\n",
       "      <td>Scottsdale</td>\n",
       "      <td>D2</td>\n",
       "      <td>1335</td>\n",
       "      <td>AZ</td>\n",
       "      <td>N Goldwater Bl</td>\n",
       "      <td>4xxx</td>\n",
       "      <td>NaN</td>\n",
       "      <td>1102</td>\n",
       "      <td>662802</td>\n",
       "      <td>7</td>\n",
       "      <td>2</td>\n",
       "      <td>8</td>\n",
       "      <td>N Goldwater Bl - 4xxx</td>\n",
       "    </tr>\n",
       "    <tr>\n",
       "      <td>3</td>\n",
       "      <td>28-701A</td>\n",
       "      <td>7.0</td>\n",
       "      <td>Speed Greater Than R&amp;P or Posted</td>\n",
       "      <td>8096918</td>\n",
       "      <td>2019-07-11</td>\n",
       "      <td>843</td>\n",
       "      <td>CV</td>\n",
       "      <td>Civil Traffic</td>\n",
       "      <td>Lu, Hung</td>\n",
       "      <td>59.0</td>\n",
       "      <td>N</td>\n",
       "      <td>A</td>\n",
       "      <td>M</td>\n",
       "      <td>Scottsdale</td>\n",
       "      <td>D2</td>\n",
       "      <td>1335</td>\n",
       "      <td>AZ</td>\n",
       "      <td>N Goldwater Bl</td>\n",
       "      <td>4xxx</td>\n",
       "      <td>NaN</td>\n",
       "      <td>1102</td>\n",
       "      <td>662804</td>\n",
       "      <td>7</td>\n",
       "      <td>3</td>\n",
       "      <td>8</td>\n",
       "      <td>N Goldwater Bl - 4xxx</td>\n",
       "    </tr>\n",
       "    <tr>\n",
       "      <td>4</td>\n",
       "      <td>28-701A</td>\n",
       "      <td>19.0</td>\n",
       "      <td>Speed Greater Than R&amp;P or Posted</td>\n",
       "      <td>8095091</td>\n",
       "      <td>2019-07-06</td>\n",
       "      <td>2215</td>\n",
       "      <td>CV</td>\n",
       "      <td>Civil Traffic</td>\n",
       "      <td>Noller-Johnson, Aarron</td>\n",
       "      <td>23.0</td>\n",
       "      <td>U</td>\n",
       "      <td>W</td>\n",
       "      <td>M</td>\n",
       "      <td>Scottsdale</td>\n",
       "      <td>D4</td>\n",
       "      <td>1450</td>\n",
       "      <td>AZ</td>\n",
       "      <td>N Pima Rd</td>\n",
       "      <td>2xxx</td>\n",
       "      <td>NaN</td>\n",
       "      <td>3801</td>\n",
       "      <td>662805</td>\n",
       "      <td>7</td>\n",
       "      <td>5</td>\n",
       "      <td>22</td>\n",
       "      <td>N Pima Rd - 2xxx</td>\n",
       "    </tr>\n",
       "  </tbody>\n",
       "</table>\n",
       "</div>"
      ],
      "text/plain": [
       "  arizona_statute_code  beat                charge_description  citation_#  \\\n",
       "0              28-701A  12.0  Speed Greater Than R&P or Posted     8096915   \n",
       "1              28-701A  12.0  Speed Greater Than R&P or Posted     8096916   \n",
       "2              28-701A   7.0  Speed Greater Than R&P or Posted     8096917   \n",
       "3              28-701A   7.0  Speed Greater Than R&P or Posted     8096918   \n",
       "4              28-701A  19.0  Speed Greater Than R&P or Posted     8095091   \n",
       "\n",
       "  citation_date  citation_time citation_type_code citation_type_description  \\\n",
       "0    2019-07-10            747                 CV             Civil Traffic   \n",
       "1    2019-07-10            800                 CV             Civil Traffic   \n",
       "2    2019-07-10            853                 CV             Civil Traffic   \n",
       "3    2019-07-11            843                 CV             Civil Traffic   \n",
       "4    2019-07-06           2215                 CV             Civil Traffic   \n",
       "\n",
       "             cited_person  cited_person_age cited_person_ethnicity  \\\n",
       "0     Hansen, Christopher              19.0                      N   \n",
       "1            Koch, JOshua              36.0                      N   \n",
       "2             Dahl, Renee              61.0                      N   \n",
       "3                Lu, Hung              59.0                      N   \n",
       "4  Noller-Johnson, Aarron              23.0                      U   \n",
       "\n",
       "  cited_person_race cited_person_sex        city district   officer_badge_#  \\\n",
       "0                 W                M  Scottsdale       D3  1335               \n",
       "1                 W                M  Scottsdale       D3  1335               \n",
       "2                 W                F  Scottsdale       D2  1335               \n",
       "3                 A                M  Scottsdale       D2  1335               \n",
       "4                 W                M  Scottsdale       D4  1450               \n",
       "\n",
       "  state          street street_number  zip  zone  tcmainid  month  \\\n",
       "0    AZ       E Shea Bl          6xxx  NaN  3003    662799      7   \n",
       "1    AZ       E Shea Bl          6xxx  NaN  3003    662801      7   \n",
       "2    AZ  N Goldwater Bl          4xxx  NaN  1102    662802      7   \n",
       "3    AZ  N Goldwater Bl          4xxx  NaN  1102    662804      7   \n",
       "4    AZ       N Pima Rd          2xxx  NaN  3801    662805      7   \n",
       "\n",
       "   day_of_week  hour_of_day               place_id  \n",
       "0            2            7       E Shea Bl - 6xxx  \n",
       "1            2            8       E Shea Bl - 6xxx  \n",
       "2            2            8  N Goldwater Bl - 4xxx  \n",
       "3            3            8  N Goldwater Bl - 4xxx  \n",
       "4            5           22       N Pima Rd - 2xxx  "
      ]
     },
     "execution_count": 39,
     "metadata": {},
     "output_type": "execute_result"
    }
   ],
   "source": [
    "citations.head()"
   ]
  },
  {
   "cell_type": "code",
   "execution_count": 40,
   "metadata": {},
   "outputs": [
    {
     "data": {
      "text/html": [
       "<div>\n",
       "<style scoped>\n",
       "    .dataframe tbody tr th:only-of-type {\n",
       "        vertical-align: middle;\n",
       "    }\n",
       "\n",
       "    .dataframe tbody tr th {\n",
       "        vertical-align: top;\n",
       "    }\n",
       "\n",
       "    .dataframe thead th {\n",
       "        text-align: right;\n",
       "    }\n",
       "</style>\n",
       "<table border=\"1\" class=\"dataframe\">\n",
       "  <thead>\n",
       "    <tr style=\"text-align: right;\">\n",
       "      <th></th>\n",
       "      <th>beat</th>\n",
       "      <th>cited_person_age</th>\n",
       "      <th>charge_description</th>\n",
       "      <th>month</th>\n",
       "      <th>day_of_week</th>\n",
       "      <th>hour_of_day</th>\n",
       "      <th>place_id</th>\n",
       "    </tr>\n",
       "  </thead>\n",
       "  <tbody>\n",
       "    <tr>\n",
       "      <td>0</td>\n",
       "      <td>12.0</td>\n",
       "      <td>19.0</td>\n",
       "      <td>Speed Greater Than R&amp;P or Posted</td>\n",
       "      <td>7</td>\n",
       "      <td>2</td>\n",
       "      <td>7</td>\n",
       "      <td>E Shea Bl - 6xxx</td>\n",
       "    </tr>\n",
       "    <tr>\n",
       "      <td>1</td>\n",
       "      <td>12.0</td>\n",
       "      <td>36.0</td>\n",
       "      <td>Speed Greater Than R&amp;P or Posted</td>\n",
       "      <td>7</td>\n",
       "      <td>2</td>\n",
       "      <td>8</td>\n",
       "      <td>E Shea Bl - 6xxx</td>\n",
       "    </tr>\n",
       "    <tr>\n",
       "      <td>2</td>\n",
       "      <td>7.0</td>\n",
       "      <td>61.0</td>\n",
       "      <td>Speed Greater Than R&amp;P or Posted</td>\n",
       "      <td>7</td>\n",
       "      <td>2</td>\n",
       "      <td>8</td>\n",
       "      <td>N Goldwater Bl - 4xxx</td>\n",
       "    </tr>\n",
       "    <tr>\n",
       "      <td>3</td>\n",
       "      <td>7.0</td>\n",
       "      <td>59.0</td>\n",
       "      <td>Speed Greater Than R&amp;P or Posted</td>\n",
       "      <td>7</td>\n",
       "      <td>3</td>\n",
       "      <td>8</td>\n",
       "      <td>N Goldwater Bl - 4xxx</td>\n",
       "    </tr>\n",
       "    <tr>\n",
       "      <td>4</td>\n",
       "      <td>19.0</td>\n",
       "      <td>23.0</td>\n",
       "      <td>Speed Greater Than R&amp;P or Posted</td>\n",
       "      <td>7</td>\n",
       "      <td>5</td>\n",
       "      <td>22</td>\n",
       "      <td>N Pima Rd - 2xxx</td>\n",
       "    </tr>\n",
       "    <tr>\n",
       "      <td>...</td>\n",
       "      <td>...</td>\n",
       "      <td>...</td>\n",
       "      <td>...</td>\n",
       "      <td>...</td>\n",
       "      <td>...</td>\n",
       "      <td>...</td>\n",
       "      <td>...</td>\n",
       "    </tr>\n",
       "    <tr>\n",
       "      <td>22418</td>\n",
       "      <td>13.0</td>\n",
       "      <td>27.0</td>\n",
       "      <td>No Proof of Insurance</td>\n",
       "      <td>9</td>\n",
       "      <td>5</td>\n",
       "      <td>22</td>\n",
       "      <td>N 104th St / E Shea Bl -  xxx</td>\n",
       "    </tr>\n",
       "    <tr>\n",
       "      <td>22419</td>\n",
       "      <td>20.0</td>\n",
       "      <td>35.0</td>\n",
       "      <td>Fail to Stop at Stop Sign</td>\n",
       "      <td>9</td>\n",
       "      <td>5</td>\n",
       "      <td>22</td>\n",
       "      <td>N Alma School Rd / E Happy Valley Rd -  xxx</td>\n",
       "    </tr>\n",
       "    <tr>\n",
       "      <td>22420</td>\n",
       "      <td>16.0</td>\n",
       "      <td>20.0</td>\n",
       "      <td>Speed Greater Than R&amp;P or Posted</td>\n",
       "      <td>9</td>\n",
       "      <td>6</td>\n",
       "      <td>12</td>\n",
       "      <td>E Frank Lloyd Wright Bl / L101 -  xxx</td>\n",
       "    </tr>\n",
       "    <tr>\n",
       "      <td>22422</td>\n",
       "      <td>3.0</td>\n",
       "      <td>22.0</td>\n",
       "      <td>Failure to Control Speed to Avoid A Collision</td>\n",
       "      <td>10</td>\n",
       "      <td>1</td>\n",
       "      <td>16</td>\n",
       "      <td>E Thomas Rd - 7xxx</td>\n",
       "    </tr>\n",
       "    <tr>\n",
       "      <td>22424</td>\n",
       "      <td>19.0</td>\n",
       "      <td>42.0</td>\n",
       "      <td>Suspended/Revoked D.L.</td>\n",
       "      <td>10</td>\n",
       "      <td>3</td>\n",
       "      <td>11</td>\n",
       "      <td>E Hualapai DR / N Pima Rd -  xxx</td>\n",
       "    </tr>\n",
       "  </tbody>\n",
       "</table>\n",
       "<p>38417 rows × 7 columns</p>\n",
       "</div>"
      ],
      "text/plain": [
       "       beat  cited_person_age                             charge_description  \\\n",
       "0      12.0              19.0               Speed Greater Than R&P or Posted   \n",
       "1      12.0              36.0               Speed Greater Than R&P or Posted   \n",
       "2       7.0              61.0               Speed Greater Than R&P or Posted   \n",
       "3       7.0              59.0               Speed Greater Than R&P or Posted   \n",
       "4      19.0              23.0               Speed Greater Than R&P or Posted   \n",
       "...     ...               ...                                            ...   \n",
       "22418  13.0              27.0                          No Proof of Insurance   \n",
       "22419  20.0              35.0                      Fail to Stop at Stop Sign   \n",
       "22420  16.0              20.0               Speed Greater Than R&P or Posted   \n",
       "22422   3.0              22.0  Failure to Control Speed to Avoid A Collision   \n",
       "22424  19.0              42.0                         Suspended/Revoked D.L.   \n",
       "\n",
       "       month  day_of_week  hour_of_day  \\\n",
       "0          7            2            7   \n",
       "1          7            2            8   \n",
       "2          7            2            8   \n",
       "3          7            3            8   \n",
       "4          7            5           22   \n",
       "...      ...          ...          ...   \n",
       "22418      9            5           22   \n",
       "22419      9            5           22   \n",
       "22420      9            6           12   \n",
       "22422     10            1           16   \n",
       "22424     10            3           11   \n",
       "\n",
       "                                          place_id  \n",
       "0                                 E Shea Bl - 6xxx  \n",
       "1                                 E Shea Bl - 6xxx  \n",
       "2                            N Goldwater Bl - 4xxx  \n",
       "3                            N Goldwater Bl - 4xxx  \n",
       "4                                 N Pima Rd - 2xxx  \n",
       "...                                            ...  \n",
       "22418                N 104th St / E Shea Bl -  xxx  \n",
       "22419  N Alma School Rd / E Happy Valley Rd -  xxx  \n",
       "22420        E Frank Lloyd Wright Bl / L101 -  xxx  \n",
       "22422                           E Thomas Rd - 7xxx  \n",
       "22424             E Hualapai DR / N Pima Rd -  xxx  \n",
       "\n",
       "[38417 rows x 7 columns]"
      ]
     },
     "execution_count": 40,
     "metadata": {},
     "output_type": "execute_result"
    }
   ],
   "source": [
    "# combine features from the dataset I think will be beneficial \n",
    "# with those I have created\n",
    "# with the end goal of clustering in mind\n",
    "\n",
    "pd.concat([citations[['beat',\n",
    "                    'cited_person_age',\n",
    "                    'charge_description']], \n",
    "             citations.iloc[:,-4:]], axis=1)"
   ]
  },
  {
   "cell_type": "code",
   "execution_count": 41,
   "metadata": {},
   "outputs": [],
   "source": [
    "# export features to CSV\n",
    "\n",
    "pd.concat([citations[['beat',\n",
    "                    'cited_person_age',\n",
    "                    'charge_description']], \n",
    "             citations.iloc[:,-4:]], axis=1).to_csv('data/clustering_features.csv', index=False)"
   ]
  }
 ],
 "metadata": {
  "kernelspec": {
   "display_name": "Python 3",
   "language": "python",
   "name": "python3"
  },
  "language_info": {
   "codemirror_mode": {
    "name": "ipython",
    "version": 3
   },
   "file_extension": ".py",
   "mimetype": "text/x-python",
   "name": "python",
   "nbconvert_exporter": "python",
   "pygments_lexer": "ipython3",
   "version": "3.7.3"
  }
 },
 "nbformat": 4,
 "nbformat_minor": 4
}
