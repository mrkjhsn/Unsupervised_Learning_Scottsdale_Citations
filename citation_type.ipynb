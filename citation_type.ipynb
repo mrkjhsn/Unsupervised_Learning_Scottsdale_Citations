{
 "cells": [
  {
   "cell_type": "markdown",
   "metadata": {},
   "source": [
    "# CITATION TYPE - clustering analysis\n",
    "\n",
    "### Process:\n",
    "\n",
    "1. Subset the dataset based on **top locations** and **top citations**\n",
    "\n",
    "1. For each citation - examine for age, location, time of day clusters\n",
    "\n",
    "1. For each location:\n",
    "    examine for age, time of day, citation type clusters\n",
    "\n",
    "1. For each hour of the day:\n",
    "    examine for age, citation type, and location clusters\n",
    "\n",
    "\n",
    "for each of these find the highest silhouette score for that particular citation, location, hour of the day\n"
   ]
  },
  {
   "cell_type": "markdown",
   "metadata": {},
   "source": [
    "## IMPORT LIBRARIES AND DATA"
   ]
  },
  {
   "cell_type": "code",
   "execution_count": 2,
   "metadata": {},
   "outputs": [],
   "source": [
    "import pandas as pd\n",
    "import numpy as np\n",
    "from scipy.stats import ttest_ind\n",
    "import matplotlib.pyplot as plt\n",
    "import matplotlib.ticker as ticker\n",
    "import seaborn as sns\n",
    "import datetime\n",
    "import glob\n",
    "pd.set_option('display.max_columns', None)\n",
    "sns.set(style='darkgrid')\n",
    "# plt.style.use('bmh')\n",
    "plt.rcParams['patch.edgecolor'] = 'none'\n",
    "import jenkspy\n",
    "\n",
    "import hdbscan\n",
    "from sklearn.cluster import KMeans\n",
    "from sklearn.cluster import DBSCAN\n",
    "from sklearn.mixture import GaussianMixture\n",
    "from sklearn.cluster import AgglomerativeClustering\n",
    "\n",
    "from sklearn.preprocessing import StandardScaler\n",
    "from sklearn.decomposition import PCA\n",
    "from sklearn.manifold import TSNE\n",
    "import umap\n",
    "from sklearn import metrics\n",
    "\n",
    "import warnings\n",
    "warnings.filterwarnings('ignore')"
   ]
  },
  {
   "cell_type": "code",
   "execution_count": 3,
   "metadata": {},
   "outputs": [],
   "source": [
    "# read in data that has already been preprocessed\n",
    "df = pd.read_csv('data/clustering_features.csv')"
   ]
  },
  {
   "cell_type": "code",
   "execution_count": 4,
   "metadata": {},
   "outputs": [
    {
     "data": {
      "text/plain": [
       "(18247, 10)"
      ]
     },
     "execution_count": 4,
     "metadata": {},
     "output_type": "execute_result"
    }
   ],
   "source": [
    "df.shape"
   ]
  },
  {
   "cell_type": "code",
   "execution_count": 11,
   "metadata": {},
   "outputs": [
    {
     "data": {
      "text/html": [
       "<div>\n",
       "<style scoped>\n",
       "    .dataframe tbody tr th:only-of-type {\n",
       "        vertical-align: middle;\n",
       "    }\n",
       "\n",
       "    .dataframe tbody tr th {\n",
       "        vertical-align: top;\n",
       "    }\n",
       "\n",
       "    .dataframe thead th {\n",
       "        text-align: right;\n",
       "    }\n",
       "</style>\n",
       "<table border=\"1\" class=\"dataframe\">\n",
       "  <thead>\n",
       "    <tr style=\"text-align: right;\">\n",
       "      <th></th>\n",
       "      <th>cited_person_age</th>\n",
       "      <th>citation_time</th>\n",
       "      <th>charge_description</th>\n",
       "      <th>street</th>\n",
       "      <th>month</th>\n",
       "      <th>day_of_week</th>\n",
       "      <th>week_of_year</th>\n",
       "      <th>hour_of_day</th>\n",
       "      <th>age_breaks</th>\n",
       "    </tr>\n",
       "  </thead>\n",
       "  <tbody>\n",
       "    <tr>\n",
       "      <td>0</td>\n",
       "      <td>19.0</td>\n",
       "      <td>747</td>\n",
       "      <td>Speed Greater Than R&amp;P or Posted</td>\n",
       "      <td>E Shea Bl</td>\n",
       "      <td>7</td>\n",
       "      <td>2</td>\n",
       "      <td>28</td>\n",
       "      <td>7</td>\n",
       "      <td>(17.999, 24.0]</td>\n",
       "    </tr>\n",
       "    <tr>\n",
       "      <td>1</td>\n",
       "      <td>36.0</td>\n",
       "      <td>800</td>\n",
       "      <td>Speed Greater Than R&amp;P or Posted</td>\n",
       "      <td>E Shea Bl</td>\n",
       "      <td>7</td>\n",
       "      <td>2</td>\n",
       "      <td>28</td>\n",
       "      <td>8</td>\n",
       "      <td>(29.0, 37.0]</td>\n",
       "    </tr>\n",
       "    <tr>\n",
       "      <td>2</td>\n",
       "      <td>61.0</td>\n",
       "      <td>853</td>\n",
       "      <td>Speed Greater Than R&amp;P or Posted</td>\n",
       "      <td>N Goldwater Bl</td>\n",
       "      <td>7</td>\n",
       "      <td>2</td>\n",
       "      <td>28</td>\n",
       "      <td>8</td>\n",
       "      <td>(50.0, 97.0]</td>\n",
       "    </tr>\n",
       "    <tr>\n",
       "      <td>3</td>\n",
       "      <td>59.0</td>\n",
       "      <td>843</td>\n",
       "      <td>Speed Greater Than R&amp;P or Posted</td>\n",
       "      <td>N Goldwater Bl</td>\n",
       "      <td>7</td>\n",
       "      <td>3</td>\n",
       "      <td>28</td>\n",
       "      <td>8</td>\n",
       "      <td>(50.0, 97.0]</td>\n",
       "    </tr>\n",
       "    <tr>\n",
       "      <td>4</td>\n",
       "      <td>23.0</td>\n",
       "      <td>2215</td>\n",
       "      <td>Speed Greater Than R&amp;P or Posted</td>\n",
       "      <td>N Pima Rd</td>\n",
       "      <td>7</td>\n",
       "      <td>5</td>\n",
       "      <td>27</td>\n",
       "      <td>22</td>\n",
       "      <td>(17.999, 24.0]</td>\n",
       "    </tr>\n",
       "  </tbody>\n",
       "</table>\n",
       "</div>"
      ],
      "text/plain": [
       "   cited_person_age  citation_time                charge_description  \\\n",
       "0              19.0            747  Speed Greater Than R&P or Posted   \n",
       "1              36.0            800  Speed Greater Than R&P or Posted   \n",
       "2              61.0            853  Speed Greater Than R&P or Posted   \n",
       "3              59.0            843  Speed Greater Than R&P or Posted   \n",
       "4              23.0           2215  Speed Greater Than R&P or Posted   \n",
       "\n",
       "           street  month  day_of_week  week_of_year  hour_of_day  \\\n",
       "0       E Shea Bl      7            2            28            7   \n",
       "1       E Shea Bl      7            2            28            8   \n",
       "2  N Goldwater Bl      7            2            28            8   \n",
       "3  N Goldwater Bl      7            3            28            8   \n",
       "4       N Pima Rd      7            5            27           22   \n",
       "\n",
       "       age_breaks  \n",
       "0  (17.999, 24.0]  \n",
       "1    (29.0, 37.0]  \n",
       "2    (50.0, 97.0]  \n",
       "3    (50.0, 97.0]  \n",
       "4  (17.999, 24.0]  "
      ]
     },
     "execution_count": 11,
     "metadata": {},
     "output_type": "execute_result"
    }
   ],
   "source": [
    "df.head()"
   ]
  },
  {
   "cell_type": "code",
   "execution_count": 5,
   "metadata": {},
   "outputs": [],
   "source": [
    "# drop place id for the time being\n",
    "df.drop(['place_id'], axis=1, inplace=True)"
   ]
  },
  {
   "cell_type": "code",
   "execution_count": 12,
   "metadata": {},
   "outputs": [],
   "source": [
    "# drop features I don't want to use for now\n",
    "df.drop(['citation_time'], axis=1, inplace=True)\n",
    "df.drop(['age_breaks'], axis=1, inplace=True)"
   ]
  },
  {
   "cell_type": "code",
   "execution_count": 14,
   "metadata": {},
   "outputs": [
    {
     "data": {
      "text/html": [
       "<div>\n",
       "<style scoped>\n",
       "    .dataframe tbody tr th:only-of-type {\n",
       "        vertical-align: middle;\n",
       "    }\n",
       "\n",
       "    .dataframe tbody tr th {\n",
       "        vertical-align: top;\n",
       "    }\n",
       "\n",
       "    .dataframe thead th {\n",
       "        text-align: right;\n",
       "    }\n",
       "</style>\n",
       "<table border=\"1\" class=\"dataframe\">\n",
       "  <thead>\n",
       "    <tr style=\"text-align: right;\">\n",
       "      <th></th>\n",
       "      <th>cited_person_age</th>\n",
       "      <th>charge_description</th>\n",
       "      <th>street</th>\n",
       "      <th>month</th>\n",
       "      <th>day_of_week</th>\n",
       "      <th>week_of_year</th>\n",
       "      <th>hour_of_day</th>\n",
       "    </tr>\n",
       "  </thead>\n",
       "  <tbody>\n",
       "    <tr>\n",
       "      <td>0</td>\n",
       "      <td>19.0</td>\n",
       "      <td>Speed Greater Than R&amp;P or Posted</td>\n",
       "      <td>E Shea Bl</td>\n",
       "      <td>7</td>\n",
       "      <td>2</td>\n",
       "      <td>28</td>\n",
       "      <td>7</td>\n",
       "    </tr>\n",
       "    <tr>\n",
       "      <td>1</td>\n",
       "      <td>36.0</td>\n",
       "      <td>Speed Greater Than R&amp;P or Posted</td>\n",
       "      <td>E Shea Bl</td>\n",
       "      <td>7</td>\n",
       "      <td>2</td>\n",
       "      <td>28</td>\n",
       "      <td>8</td>\n",
       "    </tr>\n",
       "    <tr>\n",
       "      <td>2</td>\n",
       "      <td>61.0</td>\n",
       "      <td>Speed Greater Than R&amp;P or Posted</td>\n",
       "      <td>N Goldwater Bl</td>\n",
       "      <td>7</td>\n",
       "      <td>2</td>\n",
       "      <td>28</td>\n",
       "      <td>8</td>\n",
       "    </tr>\n",
       "    <tr>\n",
       "      <td>3</td>\n",
       "      <td>59.0</td>\n",
       "      <td>Speed Greater Than R&amp;P or Posted</td>\n",
       "      <td>N Goldwater Bl</td>\n",
       "      <td>7</td>\n",
       "      <td>3</td>\n",
       "      <td>28</td>\n",
       "      <td>8</td>\n",
       "    </tr>\n",
       "    <tr>\n",
       "      <td>4</td>\n",
       "      <td>23.0</td>\n",
       "      <td>Speed Greater Than R&amp;P or Posted</td>\n",
       "      <td>N Pima Rd</td>\n",
       "      <td>7</td>\n",
       "      <td>5</td>\n",
       "      <td>27</td>\n",
       "      <td>22</td>\n",
       "    </tr>\n",
       "  </tbody>\n",
       "</table>\n",
       "</div>"
      ],
      "text/plain": [
       "   cited_person_age                charge_description          street  month  \\\n",
       "0              19.0  Speed Greater Than R&P or Posted       E Shea Bl      7   \n",
       "1              36.0  Speed Greater Than R&P or Posted       E Shea Bl      7   \n",
       "2              61.0  Speed Greater Than R&P or Posted  N Goldwater Bl      7   \n",
       "3              59.0  Speed Greater Than R&P or Posted  N Goldwater Bl      7   \n",
       "4              23.0  Speed Greater Than R&P or Posted       N Pima Rd      7   \n",
       "\n",
       "   day_of_week  week_of_year  hour_of_day  \n",
       "0            2            28            7  \n",
       "1            2            28            8  \n",
       "2            2            28            8  \n",
       "3            3            28            8  \n",
       "4            5            27           22  "
      ]
     },
     "execution_count": 14,
     "metadata": {},
     "output_type": "execute_result"
    }
   ],
   "source": [
    "df.head()"
   ]
  },
  {
   "cell_type": "code",
   "execution_count": 13,
   "metadata": {},
   "outputs": [
    {
     "data": {
      "text/plain": [
       "cited_person_age      float64\n",
       "charge_description     object\n",
       "street                 object\n",
       "month                   int64\n",
       "day_of_week             int64\n",
       "week_of_year            int64\n",
       "hour_of_day             int64\n",
       "dtype: object"
      ]
     },
     "execution_count": 13,
     "metadata": {},
     "output_type": "execute_result"
    }
   ],
   "source": [
    "df.dtypes"
   ]
  },
  {
   "cell_type": "code",
   "execution_count": 7,
   "metadata": {},
   "outputs": [
    {
     "data": {
      "text/plain": [
       "['Speed Greater Than R&P or Posted',\n",
       " 'Expired/No Arizona Registration',\n",
       " 'Drug Paraphernalia-Possess/Use',\n",
       " 'Failure to Control Speed to Avoid A Collision',\n",
       " 'Fail to Obey Traffic Control Device',\n",
       " 'No Proof of Insurance',\n",
       " 'Fail to Stop For Red Signal',\n",
       " 'Suspended/Revoked D.L.',\n",
       " 'DUI-Impaired to Slightest Degree',\n",
       " 'Fail to Stop at Stop Sign']"
      ]
     },
     "execution_count": 7,
     "metadata": {},
     "output_type": "execute_result"
    }
   ],
   "source": [
    "# identify unique citations\n",
    "list(df.charge_description.unique())"
   ]
  },
  {
   "cell_type": "code",
   "execution_count": null,
   "metadata": {},
   "outputs": [],
   "source": []
  },
  {
   "cell_type": "code",
   "execution_count": 15,
   "metadata": {},
   "outputs": [],
   "source": [
    "X = pd.get_dummies(df.drop(['charge_description'], axis=1))"
   ]
  },
  {
   "cell_type": "code",
   "execution_count": 16,
   "metadata": {},
   "outputs": [
    {
     "data": {
      "text/html": [
       "<div>\n",
       "<style scoped>\n",
       "    .dataframe tbody tr th:only-of-type {\n",
       "        vertical-align: middle;\n",
       "    }\n",
       "\n",
       "    .dataframe tbody tr th {\n",
       "        vertical-align: top;\n",
       "    }\n",
       "\n",
       "    .dataframe thead th {\n",
       "        text-align: right;\n",
       "    }\n",
       "</style>\n",
       "<table border=\"1\" class=\"dataframe\">\n",
       "  <thead>\n",
       "    <tr style=\"text-align: right;\">\n",
       "      <th></th>\n",
       "      <th>cited_person_age</th>\n",
       "      <th>month</th>\n",
       "      <th>day_of_week</th>\n",
       "      <th>week_of_year</th>\n",
       "      <th>hour_of_day</th>\n",
       "      <th>street_E Cactus Rd</th>\n",
       "      <th>street_E Camelback Rd</th>\n",
       "      <th>street_E Camelback Rd / N Saddlebag Tr</th>\n",
       "      <th>street_E Camelback Rd / N Scottsdale Rd</th>\n",
       "      <th>street_E Chaparral Rd</th>\n",
       "      <th>street_E Frank Lloyd Wright Bl</th>\n",
       "      <th>street_E Frank Lloyd Wright Bl / L101</th>\n",
       "      <th>street_E Frank Lloyd Wright Bl / N Hayden Rd</th>\n",
       "      <th>street_E Frank Lloyd Wright Bl / N Scottsdale Rd</th>\n",
       "      <th>street_E Indian Bend Rd</th>\n",
       "      <th>street_E Indian Pz</th>\n",
       "      <th>street_E Indian School Rd</th>\n",
       "      <th>street_E McDonald DR</th>\n",
       "      <th>street_E McDowell Rd</th>\n",
       "      <th>street_E McDowell Rd / N Scottsdale Rd</th>\n",
       "      <th>street_E McKellips Rd</th>\n",
       "      <th>street_E Mountain View Rd</th>\n",
       "      <th>street_E Oak St</th>\n",
       "      <th>street_E Osborn Rd</th>\n",
       "      <th>street_E Raintree DR</th>\n",
       "      <th>street_E Redfield Rd</th>\n",
       "      <th>street_E Shea Bl</th>\n",
       "      <th>street_E Shoeman Ln</th>\n",
       "      <th>street_E Stetson DR</th>\n",
       "      <th>street_E Thomas Rd</th>\n",
       "      <th>street_E Via Linda</th>\n",
       "      <th>street_L101 / E Shea Bl</th>\n",
       "      <th>street_N 100th St</th>\n",
       "      <th>street_N 136th St</th>\n",
       "      <th>street_N 64th St</th>\n",
       "      <th>street_N 64th St / E Cholla St</th>\n",
       "      <th>street_N 68th St</th>\n",
       "      <th>street_N 75th St</th>\n",
       "      <th>street_N 90th St</th>\n",
       "      <th>street_N Frank Lloyd Wright Bl</th>\n",
       "      <th>street_N Goldwater Bl</th>\n",
       "      <th>street_N Granite Reef Rd</th>\n",
       "      <th>street_N Hayden Rd</th>\n",
       "      <th>street_N Hayden Rd / E Indian School Rd</th>\n",
       "      <th>street_N Hayden Rd / E Legacy Bl</th>\n",
       "      <th>street_N Hayden Rd / E McDowell Rd</th>\n",
       "      <th>street_N Hayden Rd / E Thomas Rd</th>\n",
       "      <th>street_N Miller Rd</th>\n",
       "      <th>street_N Northsight Bl</th>\n",
       "      <th>street_N Pima Rd</th>\n",
       "      <th>street_N Saddlebag Tr</th>\n",
       "      <th>street_N Scottsdale Rd</th>\n",
       "      <th>street_N Scottsdale Rd / E Shea Bl</th>\n",
       "      <th>street_N Scottsdale Rd / E Thomas Rd</th>\n",
       "      <th>street_N Thompson Peak Py</th>\n",
       "    </tr>\n",
       "  </thead>\n",
       "  <tbody>\n",
       "    <tr>\n",
       "      <td>0</td>\n",
       "      <td>19.0</td>\n",
       "      <td>7</td>\n",
       "      <td>2</td>\n",
       "      <td>28</td>\n",
       "      <td>7</td>\n",
       "      <td>0</td>\n",
       "      <td>0</td>\n",
       "      <td>0</td>\n",
       "      <td>0</td>\n",
       "      <td>0</td>\n",
       "      <td>0</td>\n",
       "      <td>0</td>\n",
       "      <td>0</td>\n",
       "      <td>0</td>\n",
       "      <td>0</td>\n",
       "      <td>0</td>\n",
       "      <td>0</td>\n",
       "      <td>0</td>\n",
       "      <td>0</td>\n",
       "      <td>0</td>\n",
       "      <td>0</td>\n",
       "      <td>0</td>\n",
       "      <td>0</td>\n",
       "      <td>0</td>\n",
       "      <td>0</td>\n",
       "      <td>0</td>\n",
       "      <td>1</td>\n",
       "      <td>0</td>\n",
       "      <td>0</td>\n",
       "      <td>0</td>\n",
       "      <td>0</td>\n",
       "      <td>0</td>\n",
       "      <td>0</td>\n",
       "      <td>0</td>\n",
       "      <td>0</td>\n",
       "      <td>0</td>\n",
       "      <td>0</td>\n",
       "      <td>0</td>\n",
       "      <td>0</td>\n",
       "      <td>0</td>\n",
       "      <td>0</td>\n",
       "      <td>0</td>\n",
       "      <td>0</td>\n",
       "      <td>0</td>\n",
       "      <td>0</td>\n",
       "      <td>0</td>\n",
       "      <td>0</td>\n",
       "      <td>0</td>\n",
       "      <td>0</td>\n",
       "      <td>0</td>\n",
       "      <td>0</td>\n",
       "      <td>0</td>\n",
       "      <td>0</td>\n",
       "      <td>0</td>\n",
       "      <td>0</td>\n",
       "    </tr>\n",
       "    <tr>\n",
       "      <td>1</td>\n",
       "      <td>36.0</td>\n",
       "      <td>7</td>\n",
       "      <td>2</td>\n",
       "      <td>28</td>\n",
       "      <td>8</td>\n",
       "      <td>0</td>\n",
       "      <td>0</td>\n",
       "      <td>0</td>\n",
       "      <td>0</td>\n",
       "      <td>0</td>\n",
       "      <td>0</td>\n",
       "      <td>0</td>\n",
       "      <td>0</td>\n",
       "      <td>0</td>\n",
       "      <td>0</td>\n",
       "      <td>0</td>\n",
       "      <td>0</td>\n",
       "      <td>0</td>\n",
       "      <td>0</td>\n",
       "      <td>0</td>\n",
       "      <td>0</td>\n",
       "      <td>0</td>\n",
       "      <td>0</td>\n",
       "      <td>0</td>\n",
       "      <td>0</td>\n",
       "      <td>0</td>\n",
       "      <td>1</td>\n",
       "      <td>0</td>\n",
       "      <td>0</td>\n",
       "      <td>0</td>\n",
       "      <td>0</td>\n",
       "      <td>0</td>\n",
       "      <td>0</td>\n",
       "      <td>0</td>\n",
       "      <td>0</td>\n",
       "      <td>0</td>\n",
       "      <td>0</td>\n",
       "      <td>0</td>\n",
       "      <td>0</td>\n",
       "      <td>0</td>\n",
       "      <td>0</td>\n",
       "      <td>0</td>\n",
       "      <td>0</td>\n",
       "      <td>0</td>\n",
       "      <td>0</td>\n",
       "      <td>0</td>\n",
       "      <td>0</td>\n",
       "      <td>0</td>\n",
       "      <td>0</td>\n",
       "      <td>0</td>\n",
       "      <td>0</td>\n",
       "      <td>0</td>\n",
       "      <td>0</td>\n",
       "      <td>0</td>\n",
       "      <td>0</td>\n",
       "    </tr>\n",
       "    <tr>\n",
       "      <td>2</td>\n",
       "      <td>61.0</td>\n",
       "      <td>7</td>\n",
       "      <td>2</td>\n",
       "      <td>28</td>\n",
       "      <td>8</td>\n",
       "      <td>0</td>\n",
       "      <td>0</td>\n",
       "      <td>0</td>\n",
       "      <td>0</td>\n",
       "      <td>0</td>\n",
       "      <td>0</td>\n",
       "      <td>0</td>\n",
       "      <td>0</td>\n",
       "      <td>0</td>\n",
       "      <td>0</td>\n",
       "      <td>0</td>\n",
       "      <td>0</td>\n",
       "      <td>0</td>\n",
       "      <td>0</td>\n",
       "      <td>0</td>\n",
       "      <td>0</td>\n",
       "      <td>0</td>\n",
       "      <td>0</td>\n",
       "      <td>0</td>\n",
       "      <td>0</td>\n",
       "      <td>0</td>\n",
       "      <td>0</td>\n",
       "      <td>0</td>\n",
       "      <td>0</td>\n",
       "      <td>0</td>\n",
       "      <td>0</td>\n",
       "      <td>0</td>\n",
       "      <td>0</td>\n",
       "      <td>0</td>\n",
       "      <td>0</td>\n",
       "      <td>0</td>\n",
       "      <td>0</td>\n",
       "      <td>0</td>\n",
       "      <td>0</td>\n",
       "      <td>0</td>\n",
       "      <td>1</td>\n",
       "      <td>0</td>\n",
       "      <td>0</td>\n",
       "      <td>0</td>\n",
       "      <td>0</td>\n",
       "      <td>0</td>\n",
       "      <td>0</td>\n",
       "      <td>0</td>\n",
       "      <td>0</td>\n",
       "      <td>0</td>\n",
       "      <td>0</td>\n",
       "      <td>0</td>\n",
       "      <td>0</td>\n",
       "      <td>0</td>\n",
       "      <td>0</td>\n",
       "    </tr>\n",
       "    <tr>\n",
       "      <td>3</td>\n",
       "      <td>59.0</td>\n",
       "      <td>7</td>\n",
       "      <td>3</td>\n",
       "      <td>28</td>\n",
       "      <td>8</td>\n",
       "      <td>0</td>\n",
       "      <td>0</td>\n",
       "      <td>0</td>\n",
       "      <td>0</td>\n",
       "      <td>0</td>\n",
       "      <td>0</td>\n",
       "      <td>0</td>\n",
       "      <td>0</td>\n",
       "      <td>0</td>\n",
       "      <td>0</td>\n",
       "      <td>0</td>\n",
       "      <td>0</td>\n",
       "      <td>0</td>\n",
       "      <td>0</td>\n",
       "      <td>0</td>\n",
       "      <td>0</td>\n",
       "      <td>0</td>\n",
       "      <td>0</td>\n",
       "      <td>0</td>\n",
       "      <td>0</td>\n",
       "      <td>0</td>\n",
       "      <td>0</td>\n",
       "      <td>0</td>\n",
       "      <td>0</td>\n",
       "      <td>0</td>\n",
       "      <td>0</td>\n",
       "      <td>0</td>\n",
       "      <td>0</td>\n",
       "      <td>0</td>\n",
       "      <td>0</td>\n",
       "      <td>0</td>\n",
       "      <td>0</td>\n",
       "      <td>0</td>\n",
       "      <td>0</td>\n",
       "      <td>0</td>\n",
       "      <td>1</td>\n",
       "      <td>0</td>\n",
       "      <td>0</td>\n",
       "      <td>0</td>\n",
       "      <td>0</td>\n",
       "      <td>0</td>\n",
       "      <td>0</td>\n",
       "      <td>0</td>\n",
       "      <td>0</td>\n",
       "      <td>0</td>\n",
       "      <td>0</td>\n",
       "      <td>0</td>\n",
       "      <td>0</td>\n",
       "      <td>0</td>\n",
       "      <td>0</td>\n",
       "    </tr>\n",
       "    <tr>\n",
       "      <td>4</td>\n",
       "      <td>23.0</td>\n",
       "      <td>7</td>\n",
       "      <td>5</td>\n",
       "      <td>27</td>\n",
       "      <td>22</td>\n",
       "      <td>0</td>\n",
       "      <td>0</td>\n",
       "      <td>0</td>\n",
       "      <td>0</td>\n",
       "      <td>0</td>\n",
       "      <td>0</td>\n",
       "      <td>0</td>\n",
       "      <td>0</td>\n",
       "      <td>0</td>\n",
       "      <td>0</td>\n",
       "      <td>0</td>\n",
       "      <td>0</td>\n",
       "      <td>0</td>\n",
       "      <td>0</td>\n",
       "      <td>0</td>\n",
       "      <td>0</td>\n",
       "      <td>0</td>\n",
       "      <td>0</td>\n",
       "      <td>0</td>\n",
       "      <td>0</td>\n",
       "      <td>0</td>\n",
       "      <td>0</td>\n",
       "      <td>0</td>\n",
       "      <td>0</td>\n",
       "      <td>0</td>\n",
       "      <td>0</td>\n",
       "      <td>0</td>\n",
       "      <td>0</td>\n",
       "      <td>0</td>\n",
       "      <td>0</td>\n",
       "      <td>0</td>\n",
       "      <td>0</td>\n",
       "      <td>0</td>\n",
       "      <td>0</td>\n",
       "      <td>0</td>\n",
       "      <td>0</td>\n",
       "      <td>0</td>\n",
       "      <td>0</td>\n",
       "      <td>0</td>\n",
       "      <td>0</td>\n",
       "      <td>0</td>\n",
       "      <td>0</td>\n",
       "      <td>0</td>\n",
       "      <td>0</td>\n",
       "      <td>1</td>\n",
       "      <td>0</td>\n",
       "      <td>0</td>\n",
       "      <td>0</td>\n",
       "      <td>0</td>\n",
       "      <td>0</td>\n",
       "    </tr>\n",
       "  </tbody>\n",
       "</table>\n",
       "</div>"
      ],
      "text/plain": [
       "   cited_person_age  month  day_of_week  week_of_year  hour_of_day  \\\n",
       "0              19.0      7            2            28            7   \n",
       "1              36.0      7            2            28            8   \n",
       "2              61.0      7            2            28            8   \n",
       "3              59.0      7            3            28            8   \n",
       "4              23.0      7            5            27           22   \n",
       "\n",
       "   street_E Cactus Rd  street_E Camelback Rd  \\\n",
       "0                   0                      0   \n",
       "1                   0                      0   \n",
       "2                   0                      0   \n",
       "3                   0                      0   \n",
       "4                   0                      0   \n",
       "\n",
       "   street_E Camelback Rd / N Saddlebag Tr  \\\n",
       "0                                       0   \n",
       "1                                       0   \n",
       "2                                       0   \n",
       "3                                       0   \n",
       "4                                       0   \n",
       "\n",
       "   street_E Camelback Rd / N Scottsdale Rd  street_E Chaparral Rd  \\\n",
       "0                                        0                      0   \n",
       "1                                        0                      0   \n",
       "2                                        0                      0   \n",
       "3                                        0                      0   \n",
       "4                                        0                      0   \n",
       "\n",
       "   street_E Frank Lloyd Wright Bl  street_E Frank Lloyd Wright Bl / L101  \\\n",
       "0                               0                                      0   \n",
       "1                               0                                      0   \n",
       "2                               0                                      0   \n",
       "3                               0                                      0   \n",
       "4                               0                                      0   \n",
       "\n",
       "   street_E Frank Lloyd Wright Bl / N Hayden Rd  \\\n",
       "0                                             0   \n",
       "1                                             0   \n",
       "2                                             0   \n",
       "3                                             0   \n",
       "4                                             0   \n",
       "\n",
       "   street_E Frank Lloyd Wright Bl / N Scottsdale Rd  street_E Indian Bend Rd  \\\n",
       "0                                                 0                        0   \n",
       "1                                                 0                        0   \n",
       "2                                                 0                        0   \n",
       "3                                                 0                        0   \n",
       "4                                                 0                        0   \n",
       "\n",
       "   street_E Indian Pz  street_E Indian School Rd  street_E McDonald DR  \\\n",
       "0                   0                          0                     0   \n",
       "1                   0                          0                     0   \n",
       "2                   0                          0                     0   \n",
       "3                   0                          0                     0   \n",
       "4                   0                          0                     0   \n",
       "\n",
       "   street_E McDowell Rd  street_E McDowell Rd / N Scottsdale Rd  \\\n",
       "0                     0                                       0   \n",
       "1                     0                                       0   \n",
       "2                     0                                       0   \n",
       "3                     0                                       0   \n",
       "4                     0                                       0   \n",
       "\n",
       "   street_E McKellips Rd  street_E Mountain View Rd  street_E Oak St  \\\n",
       "0                      0                          0                0   \n",
       "1                      0                          0                0   \n",
       "2                      0                          0                0   \n",
       "3                      0                          0                0   \n",
       "4                      0                          0                0   \n",
       "\n",
       "   street_E Osborn Rd  street_E Raintree DR  street_E Redfield Rd  \\\n",
       "0                   0                     0                     0   \n",
       "1                   0                     0                     0   \n",
       "2                   0                     0                     0   \n",
       "3                   0                     0                     0   \n",
       "4                   0                     0                     0   \n",
       "\n",
       "   street_E Shea Bl  street_E Shoeman Ln  street_E Stetson DR  \\\n",
       "0                 1                    0                    0   \n",
       "1                 1                    0                    0   \n",
       "2                 0                    0                    0   \n",
       "3                 0                    0                    0   \n",
       "4                 0                    0                    0   \n",
       "\n",
       "   street_E Thomas Rd  street_E Via Linda  street_L101 / E Shea Bl  \\\n",
       "0                   0                   0                        0   \n",
       "1                   0                   0                        0   \n",
       "2                   0                   0                        0   \n",
       "3                   0                   0                        0   \n",
       "4                   0                   0                        0   \n",
       "\n",
       "   street_N 100th St  street_N 136th St  street_N 64th St  \\\n",
       "0                  0                  0                 0   \n",
       "1                  0                  0                 0   \n",
       "2                  0                  0                 0   \n",
       "3                  0                  0                 0   \n",
       "4                  0                  0                 0   \n",
       "\n",
       "   street_N 64th St / E Cholla St  street_N 68th St  street_N 75th St  \\\n",
       "0                               0                 0                 0   \n",
       "1                               0                 0                 0   \n",
       "2                               0                 0                 0   \n",
       "3                               0                 0                 0   \n",
       "4                               0                 0                 0   \n",
       "\n",
       "   street_N 90th St  street_N Frank Lloyd Wright Bl  street_N Goldwater Bl  \\\n",
       "0                 0                               0                      0   \n",
       "1                 0                               0                      0   \n",
       "2                 0                               0                      1   \n",
       "3                 0                               0                      1   \n",
       "4                 0                               0                      0   \n",
       "\n",
       "   street_N Granite Reef Rd  street_N Hayden Rd  \\\n",
       "0                         0                   0   \n",
       "1                         0                   0   \n",
       "2                         0                   0   \n",
       "3                         0                   0   \n",
       "4                         0                   0   \n",
       "\n",
       "   street_N Hayden Rd / E Indian School Rd  street_N Hayden Rd / E Legacy Bl  \\\n",
       "0                                        0                                 0   \n",
       "1                                        0                                 0   \n",
       "2                                        0                                 0   \n",
       "3                                        0                                 0   \n",
       "4                                        0                                 0   \n",
       "\n",
       "   street_N Hayden Rd / E McDowell Rd  street_N Hayden Rd / E Thomas Rd  \\\n",
       "0                                   0                                 0   \n",
       "1                                   0                                 0   \n",
       "2                                   0                                 0   \n",
       "3                                   0                                 0   \n",
       "4                                   0                                 0   \n",
       "\n",
       "   street_N Miller Rd  street_N Northsight Bl  street_N Pima Rd  \\\n",
       "0                   0                       0                 0   \n",
       "1                   0                       0                 0   \n",
       "2                   0                       0                 0   \n",
       "3                   0                       0                 0   \n",
       "4                   0                       0                 1   \n",
       "\n",
       "   street_N Saddlebag Tr  street_N Scottsdale Rd  \\\n",
       "0                      0                       0   \n",
       "1                      0                       0   \n",
       "2                      0                       0   \n",
       "3                      0                       0   \n",
       "4                      0                       0   \n",
       "\n",
       "   street_N Scottsdale Rd / E Shea Bl  street_N Scottsdale Rd / E Thomas Rd  \\\n",
       "0                                   0                                     0   \n",
       "1                                   0                                     0   \n",
       "2                                   0                                     0   \n",
       "3                                   0                                     0   \n",
       "4                                   0                                     0   \n",
       "\n",
       "   street_N Thompson Peak Py  \n",
       "0                          0  \n",
       "1                          0  \n",
       "2                          0  \n",
       "3                          0  \n",
       "4                          0  "
      ]
     },
     "execution_count": 16,
     "metadata": {},
     "output_type": "execute_result"
    }
   ],
   "source": [
    "X.head()"
   ]
  },
  {
   "cell_type": "code",
   "execution_count": 17,
   "metadata": {},
   "outputs": [
    {
     "data": {
      "text/plain": [
       "(18247, 55)"
      ]
     },
     "execution_count": 17,
     "metadata": {},
     "output_type": "execute_result"
    }
   ],
   "source": [
    "X.shape"
   ]
  },
  {
   "cell_type": "code",
   "execution_count": 18,
   "metadata": {},
   "outputs": [],
   "source": [
    "# Standarizing the features\n",
    "scaler = StandardScaler()\n",
    "X_std = scaler.fit_transform(X)"
   ]
  },
  {
   "cell_type": "code",
   "execution_count": 61,
   "metadata": {},
   "outputs": [],
   "source": [
    "gmm_cluster = GaussianMixture()\n"
   ]
  },
  {
   "cell_type": "markdown",
   "metadata": {},
   "source": [
    "## GMM - for each citation type, analyze clusters"
   ]
  },
  {
   "cell_type": "code",
   "execution_count": 133,
   "metadata": {},
   "outputs": [
    {
     "data": {
      "text/plain": [
       "[0, 0, 0, 0, 0, 0, 0, 1, 4]"
      ]
     },
     "execution_count": 133,
     "metadata": {},
     "output_type": "execute_result"
    }
   ],
   "source": [
    "# adjust eps parameter\n",
    "\n",
    "eps = []\n",
    "cluster_count_eps = []\n",
    "sil_score = []\n",
    "\n",
    "for i in np.arange(.1, 1, .1):\n",
    "    # Defining the agglomerative clustering\n",
    "    dbscan_cluster = DBSCAN(eps=i, min_samples=70)\n",
    "    eps.append(i)\n",
    "    \n",
    "    # Fit model\n",
    "    clusters = dbscan_cluster.fit_predict(X_std)\n",
    "    cluster_count_eps.append(len(set(clusters)) - (1 if -1 in clusters else 0))\n",
    "    if pd.Series(clusters).nunique() > 1:\n",
    "        sil_score.append(round(metrics.silhouette_score(X_std, clusters, metric='euclidean'), 3))\n",
    "    else:\n",
    "        pass\n",
    "cluster_count_eps"
   ]
  },
  {
   "cell_type": "code",
   "execution_count": 29,
   "metadata": {},
   "outputs": [],
   "source": [
    "sil_score = []\n",
    "cluster_count = []\n",
    "\n",
    "for citation in list(df.charge_description.unique()):\n",
    "    \n",
    "    df2 = df[df.charge_description == citation]\n",
    "    X = pd.get_dummies(df2.drop(['charge_description'], axis=1))\n",
    "    \n",
    "    scaler = StandardScaler()\n",
    "    X_std = scaler.fit_transform(X)\n",
    "    \n",
    "    # Defining the agglomerative clustering\n",
    "    dbscan_cluster = DBSCAN(eps=.1, min_samples=5)\n",
    "\n",
    "    # Fit model\n",
    "    clusters = dbscan_cluster.fit_predict(X_std)\n",
    "    \n",
    "    # capture cluster count\n",
    "    cluster_count.append(len(set(clusters)) - (1 if -1 in clusters else 0))\n",
    "\n",
    "    # capture model fit\n",
    "    if pd.Series(clusters).nunique() > 1:\n",
    "        sil_score.append(round(metrics.silhouette_score(X_std, clusters, metric='euclidean'), 3))\n",
    "    else:\n",
    "        pass"
   ]
  },
  {
   "cell_type": "code",
   "execution_count": 30,
   "metadata": {},
   "outputs": [
    {
     "data": {
      "text/plain": [
       "[-0.163]"
      ]
     },
     "execution_count": 30,
     "metadata": {},
     "output_type": "execute_result"
    }
   ],
   "source": [
    "sil_score"
   ]
  },
  {
   "cell_type": "code",
   "execution_count": 31,
   "metadata": {},
   "outputs": [
    {
     "data": {
      "text/plain": [
       "[2, 0, 0, 0, 0, 0, 0, 0, 0, 0]"
      ]
     },
     "execution_count": 31,
     "metadata": {},
     "output_type": "execute_result"
    }
   ],
   "source": [
    "cluster_count"
   ]
  },
  {
   "cell_type": "code",
   "execution_count": 22,
   "metadata": {},
   "outputs": [
    {
     "data": {
      "text/plain": [
       "(126, 19)"
      ]
     },
     "execution_count": 22,
     "metadata": {},
     "output_type": "execute_result"
    }
   ],
   "source": [
    "X_std.shape"
   ]
  },
  {
   "cell_type": "code",
   "execution_count": null,
   "metadata": {},
   "outputs": [],
   "source": []
  },
  {
   "cell_type": "code",
   "execution_count": null,
   "metadata": {},
   "outputs": [],
   "source": []
  },
  {
   "cell_type": "code",
   "execution_count": null,
   "metadata": {},
   "outputs": [],
   "source": []
  },
  {
   "cell_type": "code",
   "execution_count": 78,
   "metadata": {},
   "outputs": [
    {
     "data": {
      "text/plain": [
       "[0.079, 0.064, 0.051, 0.05, 0.075, 0.046, 0.033, -0.044, 0.077, 0.151]"
      ]
     },
     "execution_count": 78,
     "metadata": {},
     "output_type": "execute_result"
    }
   ],
   "source": [
    "sil_score = []\n",
    "\n",
    "for citation in list(df.charge_description.unique()):\n",
    "    \n",
    "    df2 = df[df.charge_description == citation]\n",
    "    X = pd.get_dummies(df2.drop(['charge_description'], axis=1))\n",
    "    \n",
    "    scaler = StandardScaler()\n",
    "    X_std = scaler.fit_transform(X)\n",
    "    \n",
    "    # Defining the agglomerative clustering\n",
    "    gmm_cluster = GaussianMixture(n_components= 5)\n",
    "\n",
    "    # Fit model\n",
    "    clusters = gmm_cluster.fit_predict(X_std)\n",
    "    sil_score.append(round(metrics.silhouette_score(X_std, clusters, metric='euclidean'), 3))\n",
    "\n",
    "sil_score"
   ]
  },
  {
   "cell_type": "code",
   "execution_count": null,
   "metadata": {},
   "outputs": [],
   "source": []
  },
  {
   "cell_type": "code",
   "execution_count": null,
   "metadata": {},
   "outputs": [],
   "source": []
  },
  {
   "cell_type": "code",
   "execution_count": 79,
   "metadata": {},
   "outputs": [
    {
     "data": {
      "image/png": "[encoded data removed]",
      "text/plain": [
       "<Figure size 432x288 with 1 Axes>"
      ]
     },
     "metadata": {
      "needs_background": "light"
     },
     "output_type": "display_data"
    }
   ],
   "source": [
    "pd.DataFrame(data= {'Silhouette': sil_score},\n",
    "            index=list(df.charge_description.unique())).plot()\n",
    "\n",
    "# plt.ylabel('Score Index')\n",
    "# plt.xlabel('Clusters')\n",
    "plt.xticks(rotation=45);"
   ]
  },
  {
   "cell_type": "code",
   "execution_count": null,
   "metadata": {},
   "outputs": [],
   "source": []
  },
  {
   "cell_type": "code",
   "execution_count": null,
   "metadata": {},
   "outputs": [],
   "source": []
  },
  {
   "cell_type": "markdown",
   "metadata": {},
   "source": [
    "## DBSCAN"
   ]
  },
  {
   "cell_type": "code",
   "execution_count": 80,
   "metadata": {},
   "outputs": [
    {
     "data": {
      "text/plain": [
       "[0.052, 0.151, 0.222, 0.136, 0.206, 0.151, 0.092, 0.162, 0.206, 0.152]"
      ]
     },
     "execution_count": 80,
     "metadata": {},
     "output_type": "execute_result"
    }
   ],
   "source": [
    "sil_score = []\n",
    "cluster_count = []\n",
    "\n",
    "for citation in list(df.charge_description.unique()):\n",
    "    \n",
    "    df2 = df[df.charge_description == citation]\n",
    "    X = pd.get_dummies(df2.drop(['charge_description'], axis=1))\n",
    "    \n",
    "    scaler = StandardScaler()\n",
    "    X_std = scaler.fit_transform(X)\n",
    "    \n",
    "    # Defining the agglomerative clustering\n",
    "    dbscan_cluster = DBSCAN(eps=1, min_samples=1)\n",
    "\n",
    "    # Fit model\n",
    "    clusters = dbscan_cluster.fit_predict(X_std)\n",
    "    sil_score.append(round(metrics.silhouette_score(X_std, clusters, metric='euclidean'), 3))\n",
    "    cluster_count.append(len(set(clusters)) - (1 if -1 in clusters else 0))\n",
    "    \n",
    "sil_score"
   ]
  },
  {
   "cell_type": "code",
   "execution_count": 82,
   "metadata": {},
   "outputs": [
    {
     "data": {
      "text/plain": [
       "[1805, 1362, 947, 808, 541, 867, 344, 1109, 765, 103]"
      ]
     },
     "execution_count": 82,
     "metadata": {},
     "output_type": "execute_result"
    }
   ],
   "source": [
    "cluster_count"
   ]
  },
  {
   "cell_type": "code",
   "execution_count": 87,
   "metadata": {},
   "outputs": [
    {
     "data": {
      "image/png": "[encoded data removed]",
      "text/plain": [
       "<Figure size 432x288 with 1 Axes>"
      ]
     },
     "metadata": {
      "needs_background": "light"
     },
     "output_type": "display_data"
    }
   ],
   "source": [
    "pd.DataFrame(data= {'Silhouette': sil_score},\n",
    "            index=list(df.charge_description.unique())).plot()\n",
    "\n",
    "# plt.ylabel('Score Index')\n",
    "# plt.xlabel('Clusters')\n",
    "plt.xticks(rotation=45);"
   ]
  },
  {
   "cell_type": "code",
   "execution_count": 88,
   "metadata": {},
   "outputs": [
    {
     "data": {
      "image/png": "[encoded data removed]",
      "text/plain": [
       "<Figure size 432x288 with 1 Axes>"
      ]
     },
     "metadata": {
      "needs_background": "light"
     },
     "output_type": "display_data"
    }
   ],
   "source": [
    "pd.DataFrame(data= {'cluster count': cluster_count},\n",
    "            index=list(df.charge_description.unique())).plot()\n",
    "\n",
    "# plt.ylabel('Score Index')\n",
    "# plt.xlabel('Clusters')\n",
    "plt.xticks(rotation=45);"
   ]
  },
  {
   "cell_type": "code",
   "execution_count": null,
   "metadata": {},
   "outputs": [],
   "source": []
  },
  {
   "cell_type": "markdown",
   "metadata": {},
   "source": [
    "## Based on citations that are most clustered above, use pca, t-SNE, and UMAP to visualize clusters"
   ]
  },
  {
   "cell_type": "code",
   "execution_count": null,
   "metadata": {},
   "outputs": [],
   "source": []
  },
  {
   "cell_type": "code",
   "execution_count": null,
   "metadata": {},
   "outputs": [],
   "source": []
  },
  {
   "cell_type": "code",
   "execution_count": null,
   "metadata": {},
   "outputs": [],
   "source": []
  },
  {
   "cell_type": "code",
   "execution_count": null,
   "metadata": {},
   "outputs": [],
   "source": []
  },
  {
   "cell_type": "code",
   "execution_count": null,
   "metadata": {},
   "outputs": [],
   "source": []
  },
  {
   "cell_type": "code",
   "execution_count": null,
   "metadata": {},
   "outputs": [],
   "source": []
  },
  {
   "cell_type": "code",
   "execution_count": null,
   "metadata": {},
   "outputs": [],
   "source": []
  },
  {
   "cell_type": "code",
   "execution_count": null,
   "metadata": {},
   "outputs": [],
   "source": []
  },
  {
   "cell_type": "code",
   "execution_count": null,
   "metadata": {},
   "outputs": [],
   "source": []
  },
  {
   "cell_type": "code",
   "execution_count": null,
   "metadata": {},
   "outputs": [],
   "source": []
  },
  {
   "cell_type": "code",
   "execution_count": 66,
   "metadata": {},
   "outputs": [
    {
     "data": {
      "text/plain": [
       "[103, 0, 0, 0, 0, 0, 0, 0, 0, 0]"
      ]
     },
     "execution_count": 66,
     "metadata": {},
     "output_type": "execute_result"
    }
   ],
   "source": [
    "# adjust min_samples parameter\n",
    "\n",
    "min_samples = []\n",
    "cluster_count_min_samples = []\n",
    "\n",
    "for i in range(1,101,10):\n",
    "    # Defining the agglomerative clustering\n",
    "    dbscan_cluster = DBSCAN(eps=1, min_samples=i)\n",
    "    min_samples.append(i)\n",
    "    \n",
    "    # Fit model\n",
    "    clusters = dbscan_cluster.fit_predict(X_std)\n",
    "    cluster_count_min_samples.append(len(set(clusters)) - (1 if -1 in clusters else 0))\n",
    "    \n",
    "cluster_count_min_samples"
   ]
  },
  {
   "cell_type": "code",
   "execution_count": 67,
   "metadata": {},
   "outputs": [
    {
     "data": {
      "text/plain": [
       "[103, 8, 1, 1, 1, 1, 1, 1, 1, 1]"
      ]
     },
     "execution_count": 67,
     "metadata": {},
     "output_type": "execute_result"
    }
   ],
   "source": [
    "# adjust eps parameter\n",
    "\n",
    "eps = []\n",
    "cluster_count_eps = []\n",
    "\n",
    "for i in range(1,101,10):\n",
    "    # Defining the agglomerative clustering\n",
    "    dbscan_cluster = DBSCAN(eps=i, min_samples=1)\n",
    "    eps.append(i)\n",
    "    \n",
    "    # Fit model\n",
    "    clusters = dbscan_cluster.fit_predict(X_std)\n",
    "    cluster_count_eps.append(len(set(clusters)) - (1 if -1 in clusters else 0))\n",
    "        \n",
    "cluster_count_eps"
   ]
  },
  {
   "cell_type": "code",
   "execution_count": 68,
   "metadata": {},
   "outputs": [
    {
     "data": {
      "text/html": [
       "<div>\n",
       "<style scoped>\n",
       "    .dataframe tbody tr th:only-of-type {\n",
       "        vertical-align: middle;\n",
       "    }\n",
       "\n",
       "    .dataframe tbody tr th {\n",
       "        vertical-align: top;\n",
       "    }\n",
       "\n",
       "    .dataframe thead th {\n",
       "        text-align: right;\n",
       "    }\n",
       "</style>\n",
       "<table border=\"1\" class=\"dataframe\">\n",
       "  <thead>\n",
       "    <tr style=\"text-align: right;\">\n",
       "      <th></th>\n",
       "      <th>min_samples</th>\n",
       "      <th>eps</th>\n",
       "    </tr>\n",
       "  </thead>\n",
       "  <tbody>\n",
       "    <tr>\n",
       "      <td>1</td>\n",
       "      <td>103</td>\n",
       "      <td>103</td>\n",
       "    </tr>\n",
       "    <tr>\n",
       "      <td>2</td>\n",
       "      <td>0</td>\n",
       "      <td>8</td>\n",
       "    </tr>\n",
       "    <tr>\n",
       "      <td>3</td>\n",
       "      <td>0</td>\n",
       "      <td>1</td>\n",
       "    </tr>\n",
       "    <tr>\n",
       "      <td>4</td>\n",
       "      <td>0</td>\n",
       "      <td>1</td>\n",
       "    </tr>\n",
       "    <tr>\n",
       "      <td>5</td>\n",
       "      <td>0</td>\n",
       "      <td>1</td>\n",
       "    </tr>\n",
       "    <tr>\n",
       "      <td>6</td>\n",
       "      <td>0</td>\n",
       "      <td>1</td>\n",
       "    </tr>\n",
       "    <tr>\n",
       "      <td>7</td>\n",
       "      <td>0</td>\n",
       "      <td>1</td>\n",
       "    </tr>\n",
       "    <tr>\n",
       "      <td>8</td>\n",
       "      <td>0</td>\n",
       "      <td>1</td>\n",
       "    </tr>\n",
       "    <tr>\n",
       "      <td>9</td>\n",
       "      <td>0</td>\n",
       "      <td>1</td>\n",
       "    </tr>\n",
       "    <tr>\n",
       "      <td>10</td>\n",
       "      <td>0</td>\n",
       "      <td>1</td>\n",
       "    </tr>\n",
       "  </tbody>\n",
       "</table>\n",
       "</div>"
      ],
      "text/plain": [
       "    min_samples  eps\n",
       "1           103  103\n",
       "2             0    8\n",
       "3             0    1\n",
       "4             0    1\n",
       "5             0    1\n",
       "6             0    1\n",
       "7             0    1\n",
       "8             0    1\n",
       "9             0    1\n",
       "10            0    1"
      ]
     },
     "execution_count": 68,
     "metadata": {},
     "output_type": "execute_result"
    }
   ],
   "source": [
    "# combine results\n",
    "pd.DataFrame(data= {'min_samples': cluster_count_min_samples,\n",
    "                      'eps': cluster_count_eps},\n",
    "            index=range(1,11,1))"
   ]
  },
  {
   "cell_type": "code",
   "execution_count": 69,
   "metadata": {},
   "outputs": [
    {
     "data": {
      "text/plain": [
       "Text(0, 0.5, 'Clusters')"
      ]
     },
     "execution_count": 69,
     "metadata": {},
     "output_type": "execute_result"
    },
    {
     "data": {
      "image/png": "[encoded data removed]",
      "text/plain": [
       "<Figure size 432x288 with 1 Axes>"
      ]
     },
     "metadata": {
      "needs_background": "light"
     },
     "output_type": "display_data"
    }
   ],
   "source": [
    "pd.DataFrame(data= {'min_samples': cluster_count_min_samples,\n",
    "                      'eps': cluster_count_eps},\n",
    "            index=range(1,11,1)).plot()\n",
    "plt.xlabel('Iterations')\n",
    "plt.ylabel('Clusters')"
   ]
  },
  {
   "cell_type": "code",
   "execution_count": null,
   "metadata": {},
   "outputs": [],
   "source": []
  },
  {
   "cell_type": "code",
   "execution_count": null,
   "metadata": {},
   "outputs": [],
   "source": []
  },
  {
   "cell_type": "code",
   "execution_count": null,
   "metadata": {},
   "outputs": [],
   "source": []
  },
  {
   "cell_type": "code",
   "execution_count": null,
   "metadata": {},
   "outputs": [],
   "source": []
  },
  {
   "cell_type": "code",
   "execution_count": null,
   "metadata": {},
   "outputs": [],
   "source": []
  },
  {
   "cell_type": "code",
   "execution_count": null,
   "metadata": {},
   "outputs": [],
   "source": []
  },
  {
   "cell_type": "code",
   "execution_count": null,
   "metadata": {},
   "outputs": [],
   "source": []
  },
  {
   "cell_type": "code",
   "execution_count": null,
   "metadata": {},
   "outputs": [],
   "source": []
  }
 ],
 "metadata": {
  "kernelspec": {
   "display_name": "Python 3",
   "language": "python",
   "name": "python3"
  },
  "language_info": {
   "codemirror_mode": {
    "name": "ipython",
    "version": 3
   },
   "file_extension": ".py",
   "mimetype": "text/x-python",
   "name": "python",
   "nbconvert_exporter": "python",
   "pygments_lexer": "ipython3",
   "version": "3.7.3"
  }
 },
 "nbformat": 4,
 "nbformat_minor": 4
}
