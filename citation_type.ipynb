{
 "cells": [
  {
   "cell_type": "markdown",
   "metadata": {},
   "source": [
    "# CITATION TYPE - clustering analysis\n",
    "\n",
    "### Process:\n",
    "\n",
    "1. Subset the dataset based on **top locations** and **top citations**\n",
    "\n",
    "1. For each citation - examine for age, location, time of day clusters\n",
    "\n",
    "1. For each location:\n",
    "    examine for age, time of day, citation type clusters\n",
    "\n",
    "1. For each hour of the day:\n",
    "    examine for age, citation type, and location clusters\n",
    "\n",
    "\n",
    "for each of these find the highest silhouette score for that particular citation, location, hour of the day\n"
   ]
  },
  {
   "cell_type": "markdown",
   "metadata": {},
   "source": [
    "## IMPORT LIBRARIES AND DATA"
   ]
  },
  {
   "cell_type": "code",
   "execution_count": 2,
   "metadata": {},
   "outputs": [],
   "source": [
    "import pandas as pd\n",
    "import numpy as np\n",
    "from scipy.stats import ttest_ind\n",
    "import matplotlib.pyplot as plt\n",
    "import matplotlib.ticker as ticker\n",
    "import seaborn as sns\n",
    "import datetime\n",
    "import glob\n",
    "pd.set_option('display.max_columns', None)\n",
    "sns.set(style='darkgrid')\n",
    "# plt.style.use('bmh')\n",
    "plt.rcParams['patch.edgecolor'] = 'none'\n",
    "import jenkspy\n",
    "\n",
    "import hdbscan\n",
    "from sklearn.cluster import KMeans\n",
    "from sklearn.cluster import DBSCAN\n",
    "from sklearn.mixture import GaussianMixture\n",
    "from sklearn.cluster import AgglomerativeClustering\n",
    "\n",
    "from sklearn.preprocessing import StandardScaler\n",
    "from sklearn.decomposition import PCA\n",
    "from sklearn.manifold import TSNE\n",
    "import umap\n",
    "from sklearn import metrics\n",
    "\n",
    "import warnings\n",
    "warnings.filterwarnings('ignore')"
   ]
  },
  {
   "cell_type": "code",
   "execution_count": 54,
   "metadata": {},
   "outputs": [],
   "source": [
    "# read in data that has already been preprocessed\n",
    "df = pd.read_csv('data/clustering_features.csv')"
   ]
  },
  {
   "cell_type": "code",
   "execution_count": 55,
   "metadata": {},
   "outputs": [
    {
     "data": {
      "text/plain": [
       "(36626, 11)"
      ]
     },
     "execution_count": 55,
     "metadata": {},
     "output_type": "execute_result"
    }
   ],
   "source": [
    "df.shape"
   ]
  },
  {
   "cell_type": "code",
   "execution_count": 56,
   "metadata": {},
   "outputs": [
    {
     "data": {
      "text/html": [
       "<div>\n",
       "<style scoped>\n",
       "    .dataframe tbody tr th:only-of-type {\n",
       "        vertical-align: middle;\n",
       "    }\n",
       "\n",
       "    .dataframe tbody tr th {\n",
       "        vertical-align: top;\n",
       "    }\n",
       "\n",
       "    .dataframe thead th {\n",
       "        text-align: right;\n",
       "    }\n",
       "</style>\n",
       "<table border=\"1\" class=\"dataframe\">\n",
       "  <thead>\n",
       "    <tr style=\"text-align: right;\">\n",
       "      <th></th>\n",
       "      <th>beat</th>\n",
       "      <th>cited_person_age</th>\n",
       "      <th>citation_time</th>\n",
       "      <th>charge_description</th>\n",
       "      <th>street</th>\n",
       "      <th>month</th>\n",
       "      <th>day_of_week</th>\n",
       "      <th>week_of_year</th>\n",
       "      <th>hour_of_day</th>\n",
       "      <th>place_id</th>\n",
       "      <th>age_breaks</th>\n",
       "    </tr>\n",
       "  </thead>\n",
       "  <tbody>\n",
       "    <tr>\n",
       "      <td>0</td>\n",
       "      <td>12.0</td>\n",
       "      <td>19.0</td>\n",
       "      <td>747</td>\n",
       "      <td>Speed Greater Than R&amp;P or Posted</td>\n",
       "      <td>E Shea Bl</td>\n",
       "      <td>7</td>\n",
       "      <td>2</td>\n",
       "      <td>28</td>\n",
       "      <td>7</td>\n",
       "      <td>E Shea Bl - 6xxx</td>\n",
       "      <td>(17.999, 24.0]</td>\n",
       "    </tr>\n",
       "    <tr>\n",
       "      <td>1</td>\n",
       "      <td>12.0</td>\n",
       "      <td>36.0</td>\n",
       "      <td>800</td>\n",
       "      <td>Speed Greater Than R&amp;P or Posted</td>\n",
       "      <td>E Shea Bl</td>\n",
       "      <td>7</td>\n",
       "      <td>2</td>\n",
       "      <td>28</td>\n",
       "      <td>8</td>\n",
       "      <td>E Shea Bl - 6xxx</td>\n",
       "      <td>(30.0, 39.0]</td>\n",
       "    </tr>\n",
       "    <tr>\n",
       "      <td>2</td>\n",
       "      <td>7.0</td>\n",
       "      <td>61.0</td>\n",
       "      <td>853</td>\n",
       "      <td>Speed Greater Than R&amp;P or Posted</td>\n",
       "      <td>N Goldwater Bl</td>\n",
       "      <td>7</td>\n",
       "      <td>2</td>\n",
       "      <td>28</td>\n",
       "      <td>8</td>\n",
       "      <td>N Goldwater Bl - 4xxx</td>\n",
       "      <td>(51.0, 97.0]</td>\n",
       "    </tr>\n",
       "    <tr>\n",
       "      <td>3</td>\n",
       "      <td>7.0</td>\n",
       "      <td>59.0</td>\n",
       "      <td>843</td>\n",
       "      <td>Speed Greater Than R&amp;P or Posted</td>\n",
       "      <td>N Goldwater Bl</td>\n",
       "      <td>7</td>\n",
       "      <td>3</td>\n",
       "      <td>28</td>\n",
       "      <td>8</td>\n",
       "      <td>N Goldwater Bl - 4xxx</td>\n",
       "      <td>(51.0, 97.0]</td>\n",
       "    </tr>\n",
       "    <tr>\n",
       "      <td>4</td>\n",
       "      <td>19.0</td>\n",
       "      <td>23.0</td>\n",
       "      <td>2215</td>\n",
       "      <td>Speed Greater Than R&amp;P or Posted</td>\n",
       "      <td>N Pima Rd</td>\n",
       "      <td>7</td>\n",
       "      <td>5</td>\n",
       "      <td>27</td>\n",
       "      <td>22</td>\n",
       "      <td>N Pima Rd - 2xxx</td>\n",
       "      <td>(17.999, 24.0]</td>\n",
       "    </tr>\n",
       "  </tbody>\n",
       "</table>\n",
       "</div>"
      ],
      "text/plain": [
       "   beat  cited_person_age  citation_time                charge_description  \\\n",
       "0  12.0              19.0            747  Speed Greater Than R&P or Posted   \n",
       "1  12.0              36.0            800  Speed Greater Than R&P or Posted   \n",
       "2   7.0              61.0            853  Speed Greater Than R&P or Posted   \n",
       "3   7.0              59.0            843  Speed Greater Than R&P or Posted   \n",
       "4  19.0              23.0           2215  Speed Greater Than R&P or Posted   \n",
       "\n",
       "           street  month  day_of_week  week_of_year  hour_of_day  \\\n",
       "0       E Shea Bl      7            2            28            7   \n",
       "1       E Shea Bl      7            2            28            8   \n",
       "2  N Goldwater Bl      7            2            28            8   \n",
       "3  N Goldwater Bl      7            3            28            8   \n",
       "4       N Pima Rd      7            5            27           22   \n",
       "\n",
       "                place_id      age_breaks  \n",
       "0       E Shea Bl - 6xxx  (17.999, 24.0]  \n",
       "1       E Shea Bl - 6xxx    (30.0, 39.0]  \n",
       "2  N Goldwater Bl - 4xxx    (51.0, 97.0]  \n",
       "3  N Goldwater Bl - 4xxx    (51.0, 97.0]  \n",
       "4       N Pima Rd - 2xxx  (17.999, 24.0]  "
      ]
     },
     "execution_count": 56,
     "metadata": {},
     "output_type": "execute_result"
    }
   ],
   "source": [
    "df.head()"
   ]
  },
  {
   "cell_type": "code",
   "execution_count": 59,
   "metadata": {},
   "outputs": [],
   "source": [
    "# drop place id for the time being\n",
    "# df.drop(['place_id'], axis=1, inplace=True)"
   ]
  },
  {
   "cell_type": "code",
   "execution_count": 60,
   "metadata": {},
   "outputs": [],
   "source": [
    "# drop features I don't want to use for now\n",
    "df.drop(['citation_time'], axis=1, inplace=True)\n",
    "# df.drop(['age_breaks'], axis=1, inplace=True)\n",
    "# df.drop(['beat'], axis=1, inplace=True)\n",
    "df.drop(['cited_person_age'], axis=1, inplace=True)"
   ]
  },
  {
   "cell_type": "code",
   "execution_count": 62,
   "metadata": {},
   "outputs": [],
   "source": [
    "df.drop(['street'], axis=1, inplace=True)"
   ]
  },
  {
   "cell_type": "code",
   "execution_count": 81,
   "metadata": {},
   "outputs": [],
   "source": [
    "# drop citations where beat is null\n",
    "# otherwise this creates problems for modeling\n",
    "\n",
    "df.drop(df[df.beat.isnull()].index, inplace=True)"
   ]
  },
  {
   "cell_type": "code",
   "execution_count": 82,
   "metadata": {},
   "outputs": [
    {
     "data": {
      "text/plain": [
       "beat                  0\n",
       "charge_description    0\n",
       "month                 0\n",
       "day_of_week           0\n",
       "week_of_year          0\n",
       "hour_of_day           0\n",
       "age_breaks            0\n",
       "dtype: int64"
      ]
     },
     "execution_count": 82,
     "metadata": {},
     "output_type": "execute_result"
    }
   ],
   "source": [
    "# verify no null values remain\n",
    "df.isnull().sum()"
   ]
  },
  {
   "cell_type": "code",
   "execution_count": 63,
   "metadata": {},
   "outputs": [
    {
     "data": {
      "text/html": [
       "<div>\n",
       "<style scoped>\n",
       "    .dataframe tbody tr th:only-of-type {\n",
       "        vertical-align: middle;\n",
       "    }\n",
       "\n",
       "    .dataframe tbody tr th {\n",
       "        vertical-align: top;\n",
       "    }\n",
       "\n",
       "    .dataframe thead th {\n",
       "        text-align: right;\n",
       "    }\n",
       "</style>\n",
       "<table border=\"1\" class=\"dataframe\">\n",
       "  <thead>\n",
       "    <tr style=\"text-align: right;\">\n",
       "      <th></th>\n",
       "      <th>beat</th>\n",
       "      <th>charge_description</th>\n",
       "      <th>month</th>\n",
       "      <th>day_of_week</th>\n",
       "      <th>week_of_year</th>\n",
       "      <th>hour_of_day</th>\n",
       "      <th>age_breaks</th>\n",
       "    </tr>\n",
       "  </thead>\n",
       "  <tbody>\n",
       "    <tr>\n",
       "      <td>0</td>\n",
       "      <td>12.0</td>\n",
       "      <td>Speed Greater Than R&amp;P or Posted</td>\n",
       "      <td>7</td>\n",
       "      <td>2</td>\n",
       "      <td>28</td>\n",
       "      <td>7</td>\n",
       "      <td>(17.999, 24.0]</td>\n",
       "    </tr>\n",
       "    <tr>\n",
       "      <td>1</td>\n",
       "      <td>12.0</td>\n",
       "      <td>Speed Greater Than R&amp;P or Posted</td>\n",
       "      <td>7</td>\n",
       "      <td>2</td>\n",
       "      <td>28</td>\n",
       "      <td>8</td>\n",
       "      <td>(30.0, 39.0]</td>\n",
       "    </tr>\n",
       "    <tr>\n",
       "      <td>2</td>\n",
       "      <td>7.0</td>\n",
       "      <td>Speed Greater Than R&amp;P or Posted</td>\n",
       "      <td>7</td>\n",
       "      <td>2</td>\n",
       "      <td>28</td>\n",
       "      <td>8</td>\n",
       "      <td>(51.0, 97.0]</td>\n",
       "    </tr>\n",
       "    <tr>\n",
       "      <td>3</td>\n",
       "      <td>7.0</td>\n",
       "      <td>Speed Greater Than R&amp;P or Posted</td>\n",
       "      <td>7</td>\n",
       "      <td>3</td>\n",
       "      <td>28</td>\n",
       "      <td>8</td>\n",
       "      <td>(51.0, 97.0]</td>\n",
       "    </tr>\n",
       "    <tr>\n",
       "      <td>4</td>\n",
       "      <td>19.0</td>\n",
       "      <td>Speed Greater Than R&amp;P or Posted</td>\n",
       "      <td>7</td>\n",
       "      <td>5</td>\n",
       "      <td>27</td>\n",
       "      <td>22</td>\n",
       "      <td>(17.999, 24.0]</td>\n",
       "    </tr>\n",
       "  </tbody>\n",
       "</table>\n",
       "</div>"
      ],
      "text/plain": [
       "   beat                charge_description  month  day_of_week  week_of_year  \\\n",
       "0  12.0  Speed Greater Than R&P or Posted      7            2            28   \n",
       "1  12.0  Speed Greater Than R&P or Posted      7            2            28   \n",
       "2   7.0  Speed Greater Than R&P or Posted      7            2            28   \n",
       "3   7.0  Speed Greater Than R&P or Posted      7            3            28   \n",
       "4  19.0  Speed Greater Than R&P or Posted      7            5            27   \n",
       "\n",
       "   hour_of_day      age_breaks  \n",
       "0            7  (17.999, 24.0]  \n",
       "1            8    (30.0, 39.0]  \n",
       "2            8    (51.0, 97.0]  \n",
       "3            8    (51.0, 97.0]  \n",
       "4           22  (17.999, 24.0]  "
      ]
     },
     "execution_count": 63,
     "metadata": {},
     "output_type": "execute_result"
    }
   ],
   "source": [
    "df.head()"
   ]
  },
  {
   "cell_type": "code",
   "execution_count": 64,
   "metadata": {},
   "outputs": [
    {
     "data": {
      "text/plain": [
       "['Speed Greater Than R&P or Posted',\n",
       " 'Expired/No Arizona Registration',\n",
       " 'No Proof of Insurance',\n",
       " 'Suspended/Revoked D.L.',\n",
       " 'Drug Paraphernalia-Possess/Use',\n",
       " 'Failure to Control Speed to Avoid A Collision',\n",
       " 'Fail to Obey Traffic Control Device',\n",
       " 'Fail to Stop at Stop Sign',\n",
       " 'Fail to Stop For Red Signal',\n",
       " 'DUI-Impaired to Slightest Degree']"
      ]
     },
     "execution_count": 64,
     "metadata": {},
     "output_type": "execute_result"
    }
   ],
   "source": [
    "# identify unique citations\n",
    "list(df.charge_description.unique())"
   ]
  },
  {
   "cell_type": "code",
   "execution_count": null,
   "metadata": {},
   "outputs": [],
   "source": []
  },
  {
   "cell_type": "code",
   "execution_count": 75,
   "metadata": {},
   "outputs": [
    {
     "data": {
      "text/plain": [
       "beat                  235\n",
       "charge_description      0\n",
       "month                   0\n",
       "day_of_week             0\n",
       "week_of_year            0\n",
       "hour_of_day             0\n",
       "age_breaks              0\n",
       "dtype: int64"
      ]
     },
     "execution_count": 75,
     "metadata": {},
     "output_type": "execute_result"
    }
   ],
   "source": [
    "df.isna().sum()"
   ]
  },
  {
   "cell_type": "code",
   "execution_count": 65,
   "metadata": {},
   "outputs": [],
   "source": [
    "X = pd.get_dummies(df.drop(['charge_description'], axis=1))"
   ]
  },
  {
   "cell_type": "code",
   "execution_count": 66,
   "metadata": {},
   "outputs": [
    {
     "data": {
      "text/html": [
       "<div>\n",
       "<style scoped>\n",
       "    .dataframe tbody tr th:only-of-type {\n",
       "        vertical-align: middle;\n",
       "    }\n",
       "\n",
       "    .dataframe tbody tr th {\n",
       "        vertical-align: top;\n",
       "    }\n",
       "\n",
       "    .dataframe thead th {\n",
       "        text-align: right;\n",
       "    }\n",
       "</style>\n",
       "<table border=\"1\" class=\"dataframe\">\n",
       "  <thead>\n",
       "    <tr style=\"text-align: right;\">\n",
       "      <th></th>\n",
       "      <th>beat</th>\n",
       "      <th>month</th>\n",
       "      <th>day_of_week</th>\n",
       "      <th>week_of_year</th>\n",
       "      <th>hour_of_day</th>\n",
       "      <th>age_breaks_(17.999, 24.0]</th>\n",
       "      <th>age_breaks_(24.0, 30.0]</th>\n",
       "      <th>age_breaks_(30.0, 39.0]</th>\n",
       "      <th>age_breaks_(39.0, 51.0]</th>\n",
       "      <th>age_breaks_(51.0, 97.0]</th>\n",
       "    </tr>\n",
       "  </thead>\n",
       "  <tbody>\n",
       "    <tr>\n",
       "      <td>0</td>\n",
       "      <td>12.0</td>\n",
       "      <td>7</td>\n",
       "      <td>2</td>\n",
       "      <td>28</td>\n",
       "      <td>7</td>\n",
       "      <td>1</td>\n",
       "      <td>0</td>\n",
       "      <td>0</td>\n",
       "      <td>0</td>\n",
       "      <td>0</td>\n",
       "    </tr>\n",
       "    <tr>\n",
       "      <td>1</td>\n",
       "      <td>12.0</td>\n",
       "      <td>7</td>\n",
       "      <td>2</td>\n",
       "      <td>28</td>\n",
       "      <td>8</td>\n",
       "      <td>0</td>\n",
       "      <td>0</td>\n",
       "      <td>1</td>\n",
       "      <td>0</td>\n",
       "      <td>0</td>\n",
       "    </tr>\n",
       "    <tr>\n",
       "      <td>2</td>\n",
       "      <td>7.0</td>\n",
       "      <td>7</td>\n",
       "      <td>2</td>\n",
       "      <td>28</td>\n",
       "      <td>8</td>\n",
       "      <td>0</td>\n",
       "      <td>0</td>\n",
       "      <td>0</td>\n",
       "      <td>0</td>\n",
       "      <td>1</td>\n",
       "    </tr>\n",
       "    <tr>\n",
       "      <td>3</td>\n",
       "      <td>7.0</td>\n",
       "      <td>7</td>\n",
       "      <td>3</td>\n",
       "      <td>28</td>\n",
       "      <td>8</td>\n",
       "      <td>0</td>\n",
       "      <td>0</td>\n",
       "      <td>0</td>\n",
       "      <td>0</td>\n",
       "      <td>1</td>\n",
       "    </tr>\n",
       "    <tr>\n",
       "      <td>4</td>\n",
       "      <td>19.0</td>\n",
       "      <td>7</td>\n",
       "      <td>5</td>\n",
       "      <td>27</td>\n",
       "      <td>22</td>\n",
       "      <td>1</td>\n",
       "      <td>0</td>\n",
       "      <td>0</td>\n",
       "      <td>0</td>\n",
       "      <td>0</td>\n",
       "    </tr>\n",
       "  </tbody>\n",
       "</table>\n",
       "</div>"
      ],
      "text/plain": [
       "   beat  month  day_of_week  week_of_year  hour_of_day  \\\n",
       "0  12.0      7            2            28            7   \n",
       "1  12.0      7            2            28            8   \n",
       "2   7.0      7            2            28            8   \n",
       "3   7.0      7            3            28            8   \n",
       "4  19.0      7            5            27           22   \n",
       "\n",
       "   age_breaks_(17.999, 24.0]  age_breaks_(24.0, 30.0]  \\\n",
       "0                          1                        0   \n",
       "1                          0                        0   \n",
       "2                          0                        0   \n",
       "3                          0                        0   \n",
       "4                          1                        0   \n",
       "\n",
       "   age_breaks_(30.0, 39.0]  age_breaks_(39.0, 51.0]  age_breaks_(51.0, 97.0]  \n",
       "0                        0                        0                        0  \n",
       "1                        1                        0                        0  \n",
       "2                        0                        0                        1  \n",
       "3                        0                        0                        1  \n",
       "4                        0                        0                        0  "
      ]
     },
     "execution_count": 66,
     "metadata": {},
     "output_type": "execute_result"
    }
   ],
   "source": [
    "X.head()"
   ]
  },
  {
   "cell_type": "code",
   "execution_count": 67,
   "metadata": {},
   "outputs": [
    {
     "data": {
      "text/plain": [
       "(36626, 10)"
      ]
     },
     "execution_count": 67,
     "metadata": {},
     "output_type": "execute_result"
    }
   ],
   "source": [
    "X.shape"
   ]
  },
  {
   "cell_type": "code",
   "execution_count": 18,
   "metadata": {},
   "outputs": [],
   "source": [
    "# Standarizing the features\n",
    "scaler = StandardScaler()\n",
    "X_std = scaler.fit_transform(X)"
   ]
  },
  {
   "cell_type": "code",
   "execution_count": 83,
   "metadata": {},
   "outputs": [],
   "source": [
    "sil_score = []\n",
    "cluster_count = []\n",
    "\n",
    "for citation in list(df.charge_description.unique()):\n",
    "    \n",
    "    df2 = df[df.charge_description == citation]\n",
    "    X = pd.get_dummies(df2.drop(['charge_description'], axis=1))\n",
    "    \n",
    "    scaler = StandardScaler()\n",
    "    X_std = scaler.fit_transform(X)\n",
    "    \n",
    "    # Defining the agglomerative clustering\n",
    "    dbscan_cluster = DBSCAN(eps=.5, min_samples=5)\n",
    "\n",
    "    # Fit model\n",
    "    clusters = dbscan_cluster.fit_predict(X_std)\n",
    "    \n",
    "    # capture cluster count\n",
    "    cluster_count.append(len(set(clusters)) - (1 if -1 in clusters else 0))\n",
    "\n",
    "    # capture model fit\n",
    "    if pd.Series(clusters).nunique() > 1:\n",
    "        sil_score.append(round(metrics.silhouette_score(X_std, clusters, metric='euclidean'), 3))\n",
    "    else:\n",
    "        pass"
   ]
  },
  {
   "cell_type": "code",
   "execution_count": 84,
   "metadata": {},
   "outputs": [
    {
     "data": {
      "text/plain": [
       "[-0.3, -0.331, -0.446, -0.341, -0.264, -0.415, -0.431, -0.405, -0.329, -0.217]"
      ]
     },
     "execution_count": 84,
     "metadata": {},
     "output_type": "execute_result"
    }
   ],
   "source": [
    "sil_score"
   ]
  },
  {
   "cell_type": "code",
   "execution_count": 85,
   "metadata": {},
   "outputs": [
    {
     "data": {
      "text/plain": [
       "[241, 194, 79, 136, 95, 78, 43, 13, 19, 104]"
      ]
     },
     "execution_count": 85,
     "metadata": {},
     "output_type": "execute_result"
    }
   ],
   "source": [
    "cluster_count"
   ]
  },
  {
   "cell_type": "code",
   "execution_count": 86,
   "metadata": {},
   "outputs": [
    {
     "data": {
      "image/png": "[encoded data removed]",
      "text/plain": [
       "<Figure size 432x288 with 1 Axes>"
      ]
     },
     "metadata": {
      "needs_background": "light"
     },
     "output_type": "display_data"
    }
   ],
   "source": [
    "pd.DataFrame(data= {'Silhouette': sil_score},\n",
    "            index=list(df.charge_description.unique())).plot()\n",
    "\n",
    "# plt.ylabel('Score Index')\n",
    "# plt.xlabel('Clusters')\n",
    "plt.xticks(rotation=45);"
   ]
  },
  {
   "cell_type": "markdown",
   "metadata": {},
   "source": [
    "### None of these silhouette indexes look great, silhouette scores ranges from -1 for bad clusters to +1 for dense clusters.  However, this measure doesn't perform well with non-flat geometry, which might be the case here."
   ]
  },
  {
   "cell_type": "code",
   "execution_count": null,
   "metadata": {},
   "outputs": [],
   "source": []
  },
  {
   "cell_type": "code",
   "execution_count": null,
   "metadata": {},
   "outputs": [],
   "source": []
  },
  {
   "cell_type": "code",
   "execution_count": null,
   "metadata": {},
   "outputs": [],
   "source": []
  },
  {
   "cell_type": "code",
   "execution_count": null,
   "metadata": {},
   "outputs": [],
   "source": []
  },
  {
   "cell_type": "code",
   "execution_count": null,
   "metadata": {},
   "outputs": [],
   "source": []
  },
  {
   "cell_type": "code",
   "execution_count": null,
   "metadata": {},
   "outputs": [],
   "source": []
  },
  {
   "cell_type": "code",
   "execution_count": null,
   "metadata": {},
   "outputs": [],
   "source": []
  },
  {
   "cell_type": "code",
   "execution_count": null,
   "metadata": {},
   "outputs": [],
   "source": []
  },
  {
   "cell_type": "code",
   "execution_count": null,
   "metadata": {},
   "outputs": [],
   "source": []
  },
  {
   "cell_type": "code",
   "execution_count": null,
   "metadata": {},
   "outputs": [],
   "source": []
  },
  {
   "cell_type": "code",
   "execution_count": null,
   "metadata": {},
   "outputs": [],
   "source": []
  },
  {
   "cell_type": "code",
   "execution_count": null,
   "metadata": {},
   "outputs": [],
   "source": []
  },
  {
   "cell_type": "code",
   "execution_count": null,
   "metadata": {},
   "outputs": [],
   "source": []
  },
  {
   "cell_type": "code",
   "execution_count": null,
   "metadata": {},
   "outputs": [],
   "source": []
  },
  {
   "cell_type": "code",
   "execution_count": null,
   "metadata": {},
   "outputs": [],
   "source": []
  },
  {
   "cell_type": "code",
   "execution_count": null,
   "metadata": {},
   "outputs": [],
   "source": []
  },
  {
   "cell_type": "code",
   "execution_count": null,
   "metadata": {},
   "outputs": [],
   "source": []
  },
  {
   "cell_type": "code",
   "execution_count": null,
   "metadata": {},
   "outputs": [],
   "source": []
  },
  {
   "cell_type": "code",
   "execution_count": null,
   "metadata": {},
   "outputs": [],
   "source": []
  },
  {
   "cell_type": "code",
   "execution_count": null,
   "metadata": {},
   "outputs": [],
   "source": []
  },
  {
   "cell_type": "code",
   "execution_count": null,
   "metadata": {},
   "outputs": [],
   "source": []
  },
  {
   "cell_type": "code",
   "execution_count": null,
   "metadata": {},
   "outputs": [],
   "source": []
  },
  {
   "cell_type": "code",
   "execution_count": null,
   "metadata": {},
   "outputs": [],
   "source": []
  },
  {
   "cell_type": "code",
   "execution_count": null,
   "metadata": {},
   "outputs": [],
   "source": []
  },
  {
   "cell_type": "code",
   "execution_count": null,
   "metadata": {},
   "outputs": [],
   "source": []
  },
  {
   "cell_type": "code",
   "execution_count": null,
   "metadata": {},
   "outputs": [],
   "source": []
  },
  {
   "cell_type": "code",
   "execution_count": null,
   "metadata": {},
   "outputs": [],
   "source": []
  },
  {
   "cell_type": "code",
   "execution_count": null,
   "metadata": {},
   "outputs": [],
   "source": []
  },
  {
   "cell_type": "code",
   "execution_count": null,
   "metadata": {},
   "outputs": [],
   "source": []
  },
  {
   "cell_type": "code",
   "execution_count": null,
   "metadata": {},
   "outputs": [],
   "source": []
  },
  {
   "cell_type": "code",
   "execution_count": null,
   "metadata": {},
   "outputs": [],
   "source": []
  },
  {
   "cell_type": "code",
   "execution_count": null,
   "metadata": {},
   "outputs": [],
   "source": []
  },
  {
   "cell_type": "code",
   "execution_count": null,
   "metadata": {},
   "outputs": [],
   "source": []
  },
  {
   "cell_type": "code",
   "execution_count": null,
   "metadata": {},
   "outputs": [],
   "source": []
  },
  {
   "cell_type": "code",
   "execution_count": null,
   "metadata": {},
   "outputs": [],
   "source": []
  },
  {
   "cell_type": "code",
   "execution_count": null,
   "metadata": {},
   "outputs": [],
   "source": []
  }
 ],
 "metadata": {
  "kernelspec": {
   "display_name": "Python 3",
   "language": "python",
   "name": "python3"
  },
  "language_info": {
   "codemirror_mode": {
    "name": "ipython",
    "version": 3
   },
   "file_extension": ".py",
   "mimetype": "text/x-python",
   "name": "python",
   "nbconvert_exporter": "python",
   "pygments_lexer": "ipython3",
   "version": "3.7.3"
  }
 },
 "nbformat": 4,
 "nbformat_minor": 4
}
